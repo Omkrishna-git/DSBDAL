{
 "cells": [
  {
   "cell_type": "code",
   "execution_count": null,
   "id": "cd2a0909",
   "metadata": {},
   "outputs": [],
   "source": [
    "import numpy as np\n",
    "import pandas as pd"
   ]
  },
  {
   "cell_type": "code",
   "execution_count": null,
   "id": "f578b7fe",
   "metadata": {},
   "outputs": [],
   "source": [
    "df_iris = pd.read_csv('iris.csv')\n",
    "df_amazon = pd.read_csv('amazon.csv')"
   ]
  },
  {
   "cell_type": "code",
   "execution_count": null,
   "id": "37fc3666",
   "metadata": {},
   "outputs": [],
   "source": [
    "df_iris.head()\n"
   ]
  },
  {
   "cell_type": "code",
   "execution_count": null,
   "id": "798f2399",
   "metadata": {},
   "outputs": [],
   "source": [
    "# df_iris.info()\n",
    "# df_iris.describe()\n",
    "df_iris.sample(5)\n"
   ]
  },
  {
   "cell_type": "code",
   "execution_count": null,
   "id": "96c0bc93",
   "metadata": {},
   "outputs": [],
   "source": [
    "df_iris['variety'].value_counts()"
   ]
  },
  {
   "cell_type": "code",
   "execution_count": null,
   "id": "b314730d",
   "metadata": {},
   "outputs": [],
   "source": [
    "df_iris.isnull().sum()"
   ]
  },
  {
   "cell_type": "code",
   "execution_count": null,
   "id": "c841fa4e",
   "metadata": {},
   "outputs": [],
   "source": [
    "df_iris['sepal.width'].fillna(df_iris['sepal.width'].mean(),inplace=True);\n",
    "df_iris['sepal.length'].fillna(df_iris['sepal.length'].mean(),inplace=True);\n",
    "df_iris['petal.length'].fillna(df_iris['petal.length'].mean(),inplace=True);\n",
    "df_iris['petal.width'].fillna(df_iris['petal.width'].mean(),inplace=True);\n",
    "df_iris['variety'].fillna(df_iris['variety'].mode()[0],inplace=True);"
   ]
  },
  {
   "cell_type": "code",
   "execution_count": null,
   "id": "39114c8f",
   "metadata": {},
   "outputs": [],
   "source": [
    "df_iris.isnull().sum()"
   ]
  },
  {
   "cell_type": "code",
   "execution_count": null,
   "id": "0f5d4add",
   "metadata": {},
   "outputs": [],
   "source": [
    "df_iris.dtypes"
   ]
  },
  {
   "cell_type": "code",
   "execution_count": null,
   "id": "b3a663ba",
   "metadata": {},
   "outputs": [],
   "source": [
    "# Convert variety to categorical codes\n",
    "df_iris['variety'] = df_iris['variety'].astype('category')\n",
    "# print(df_iris['variety'].astype('category').drop_duplicates())\n",
    "df_iris['variety_encoded'] = df_iris['variety'].cat.codes\n",
    "\n",
    "# Optional: check mapping\n",
    "print(df_iris[['variety', 'variety_encoded']].drop_duplicates())\n"
   ]
  },
  {
   "cell_type": "code",
   "execution_count": null,
   "id": "6fad04fe",
   "metadata": {},
   "outputs": [],
   "source": [
    "from sklearn.preprocessing import OrdinalEncoder\n",
    "\n",
    "# Create encoder\n",
    "enc = OrdinalEncoder()\n",
    "\n",
    "# Fit and transform the 'variety' column\n",
    "df_iris[['variety_encoded']] = enc.fit_transform(df_iris[['variety']])\n",
    "\n",
    "# Optional: convert to category\n",
    "df_iris['variety_encoded'] = df_iris['variety_encoded'].astype('category')\n",
    "\n",
    "print(df_iris[['variety', 'variety_encoded']].drop_duplicates())\n"
   ]
  },
  {
   "cell_type": "code",
   "execution_count": null,
   "id": "86e83c12",
   "metadata": {},
   "outputs": [],
   "source": [
    "df_iris.sample(10)"
   ]
  },
  {
   "cell_type": "code",
   "execution_count": null,
   "id": "527b7e3b",
   "metadata": {},
   "outputs": [],
   "source": [
    "from sklearn.preprocessing import MaxAbsScaler\n",
    "\n",
    "# Min-Max Scaling for 'sepal.length'\n",
    "df_iris['sepal.length_minmax'] = (\n",
    "    (df_iris['sepal.length'] - df_iris['sepal.length'].min()) /\n",
    "    (df_iris['sepal.length'].max() - df_iris['sepal.length'].min())\n",
    ")\n",
    "\n",
    "# MaxAbs Scaling for 'sepal.length'\n",
    "# abs_scaler = MaxAbsScaler()\n",
    "df_iris['sepal.length_maxabs'] = MaxAbsScaler().fit_transform(df_iris[['sepal.length']])\n"
   ]
  },
  {
   "cell_type": "code",
   "execution_count": null,
   "id": "c28fe6eb",
   "metadata": {},
   "outputs": [],
   "source": [
    "df_iris.head()"
   ]
  },
  {
   "cell_type": "code",
   "execution_count": null,
   "id": "8200ffe1",
   "metadata": {},
   "outputs": [],
   "source": [
    "from sklearn.preprocessing import MaxAbsScaler\n",
    "\n",
    "# -------------------------------\n",
    "# Min-Max Normalization (Manual)\n",
    "# -------------------------------\n",
    "# Apply on all numerical columns\n",
    "numerical_cols = ['sepal.length', 'sepal.width', 'petal.length', 'petal.width']\n",
    "\n",
    "# Apply Min-Max scaling\n",
    "for col in numerical_cols:\n",
    "    df_iris[col + '_minmax'] = (df_iris[col] - df_iris[col].min()) / (df_iris[col].max() - df_iris[col].min())\n",
    "\n",
    "# -------------------------------\n",
    "# MaxAbsScaler (Sklearn)\n",
    "# -------------------------------\n",
    "scaler = MaxAbsScaler()\n",
    "df_iris_maxabs = scaler.fit_transform(df_iris[numerical_cols])\n",
    "\n",
    "# Add back to the dataframe\n",
    "for i, col in enumerate(numerical_cols):\n",
    "    df_iris[col + '_maxabs'] = df_iris_maxabs[:, i]\n",
    "\n",
    "# -------------------------------\n",
    "# Display the results\n",
    "# -------------------------------\n",
    "print(df_iris[[col + '_minmax' for col in numerical_cols]].head())\n",
    "print(df_iris[[col + '_maxabs' for col in numerical_cols]].head())\n"
   ]
  },
  {
   "cell_type": "code",
   "execution_count": null,
   "id": "3b82294b",
   "metadata": {},
   "outputs": [],
   "source": [
    "df_iris.head()"
   ]
  },
  {
   "cell_type": "code",
   "execution_count": null,
   "id": "cc3dfb79",
   "metadata": {},
   "outputs": [],
   "source": [
    "import seaborn as sns\n",
    "import matplotlib.pyplot as plt"
   ]
  },
  {
   "cell_type": "code",
   "execution_count": null,
   "id": "b65882f2",
   "metadata": {},
   "outputs": [],
   "source": [
    "df_iris.columns = df_iris.columns.str.replace(' (cm)', '', regex=False)\n",
    "df_iris.rename(columns={\n",
    "    'sepal length': 'sepal_length',\n",
    "    'sepal width': 'sepal_width',\n",
    "    'petal length': 'petal_length',\n",
    "    'petal width': 'petal_width'\n",
    "}, inplace=True)"
   ]
  },
  {
   "cell_type": "code",
   "execution_count": null,
   "id": "47f31196",
   "metadata": {},
   "outputs": [],
   "source": [
    "# --------------------------\n",
    "# Step 2: Plot Before Removing Outliers\n",
    "# --------------------------\n",
    "fig, axes = plt.subplots(2, 2, figsize=(12, 8))\n",
    "fig.suptitle('Before removing Outliers', fontsize=16)\n",
    "\n",
    "sns.boxplot(data=df_iris, x='sepal_length', ax=axes[0, 0])\n",
    "sns.boxplot(data=df_iris, x='sepal_width', ax=axes[0, 1])\n",
    "sns.boxplot(data=df_iris, x='petal_length', ax=axes[1, 0])\n",
    "sns.boxplot(data=df_iris, x='petal_width', ax=axes[1, 1])\n",
    "\n",
    "plt.tight_layout()\n",
    "plt.show()\n",
    "\n",
    "# --------------------------\n",
    "# Step 3: Outlier Detection and Removal Function\n",
    "# --------------------------\n",
    "def remove_outliers(df, column):\n",
    "    Q1 = df[column].quantile(0.25)\n",
    "    Q3 = df[column].quantile(0.75)\n",
    "    IQR = Q3 - Q1\n",
    "    lower = Q1 - 1.5 * IQR\n",
    "    upper = Q3 + 1.5 * IQR\n",
    "\n",
    "    outliers = df[(df[column] < lower) | (df[column] > upper)]\n",
    "    print(f\"\\n{column.upper()} - Lower bound: {lower}, Upper bound: {upper}\")\n",
    "    print(f\"Outliers found in {column}: {len(outliers)}\")\n",
    "\n",
    "    return df[(df[column] >= lower) & (df[column] <= upper)]\n",
    "\n",
    "# --------------------------\n",
    "# Step 4: Remove Outliers From All Numeric Columns\n",
    "# --------------------------\n",
    "df_cleaned = df_iris.copy()\n",
    "for col in ['sepal_length', 'sepal_width', 'petal_length', 'petal_width']:\n",
    "    df_cleaned = remove_outliers(df_cleaned, col)\n",
    "\n",
    "# --------------------------\n",
    "# Step 5: Plot After Removing Outliers\n",
    "# --------------------------\n",
    "fig, axes = plt.subplots(2, 2)\n",
    "fig.suptitle('After removing Outliers')\n",
    "\n",
    "sns.boxplot(data=df_cleaned, x='sepal_length', ax=axes[0, 0])\n",
    "sns.boxplot(data=df_cleaned, x='sepal_width', ax=axes[0, 1])\n",
    "sns.boxplot(data=df_cleaned, x='petal_length', ax=axes[1, 0])\n",
    "sns.boxplot(data=df_cleaned, x='petal_width', ax=axes[1, 1])\n",
    "\n",
    "plt.tight_layout()\n",
    "plt.show()\n"
   ]
  },
  {
   "cell_type": "code",
   "execution_count": null,
   "id": "8d589325",
   "metadata": {},
   "outputs": [],
   "source": [
    "df_iris.sample(5)"
   ]
  },
  {
   "cell_type": "code",
   "execution_count": null,
   "id": "c319739c",
   "metadata": {},
   "outputs": [],
   "source": [
    "print('sepal_length:', df_iris['sepal.length'].skew())\n",
    "print('sepal_width:', df_iris['sepal.width'].skew())\n",
    "print('petal_length:', df_iris['petal.length'].skew())\n",
    "print('petal_width:', df_iris['petal.width'].skew())"
   ]
  },
  {
   "cell_type": "code",
   "execution_count": null,
   "id": "ef3be543",
   "metadata": {},
   "outputs": [],
   "source": [
    "fig, axes = plt.subplots(2,2)\n",
    "fig.suptitle('Handling Data Skewness')\n",
    "sns.histplot(ax = axes[0,0], data = df_iris['sepal.length'], kde=True)\n",
    "sns.histplot(ax = axes[0,1], data = df_iris['sepal.width'], kde=True)\n",
    "sns.histplot(ax = axes[1,0], data = df_iris['petal.length'], kde=True)\n",
    "sns.histplot(ax = axes[1,1], data = df_iris['petal.width'], kde=True)"
   ]
  },
  {
   "cell_type": "code",
   "execution_count": null,
   "id": "89802626",
   "metadata": {},
   "outputs": [],
   "source": [
    "df_iris.head()"
   ]
  },
  {
   "cell_type": "code",
   "execution_count": null,
   "id": "52f30d88",
   "metadata": {},
   "outputs": [],
   "source": [
    "from sklearn.preprocessing import PowerTransformer\n",
    "yeo = PowerTransformer(standardize=True)\n",
    "df_iris['sepal.length'] = yeo.fit_transform(df_iris['sepal.length'].values.reshape(-1,1))\n",
    "df_iris['sepal.width'] = yeo.fit_transform(df_iris['sepal.width'].values.reshape(-1,1))"
   ]
  },
  {
   "cell_type": "code",
   "execution_count": null,
   "id": "547dadec",
   "metadata": {},
   "outputs": [],
   "source": [
    "df_iris.head()"
   ]
  },
  {
   "cell_type": "code",
   "execution_count": null,
   "id": "1ff9c182",
   "metadata": {},
   "outputs": [],
   "source": [
    "fig, axes = plt.subplots(2,2)\n",
    "fig.suptitle('Handling Data Skewness')\n",
    "sns.histplot(ax = axes[0,0], data = df_iris['sepal.length'], kde=True)\n",
    "sns.histplot(ax = axes[0,1], data = df_iris['sepal.width'], kde=True)\n",
    "sns.histplot(ax = axes[1,0], data = df_iris['petal.length'], kde=True)\n",
    "sns.histplot(ax = axes[1,1], data = df_iris['petal.width'], kde=True)"
   ]
  },
  {
   "cell_type": "code",
   "execution_count": null,
   "id": "918b2047",
   "metadata": {},
   "outputs": [],
   "source": []
  }
 ],
 "metadata": {
  "kernelspec": {
   "display_name": "Python 3",
   "language": "python",
   "name": "python3"
  },
  "language_info": {
   "codemirror_mode": {
    "name": "ipython",
    "version": 3
   },
   "file_extension": ".py",
   "mimetype": "text/x-python",
   "name": "python",
   "nbconvert_exporter": "python",
   "pygments_lexer": "ipython3",
   "version": "3.12.0"
  }
 },
 "nbformat": 4,
 "nbformat_minor": 5
}
