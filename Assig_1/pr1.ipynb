{
 "cells": [
  {
   "cell_type": "code",
   "execution_count": null,
   "id": "c58a7dc0",
   "metadata": {},
   "outputs": [],
   "source": [
    "import pandas as pd\n",
    "import numpy as np\n",
    "import seaborn as sns\n",
    "import matplotlib.pyplot as plt"
   ]
  },
  {
   "cell_type": "code",
   "execution_count": null,
   "id": "733108ec",
   "metadata": {},
   "outputs": [],
   "source": [
    "df = pd.read_csv('iris.csv')\n",
    "df.sample(5)"
   ]
  },
  {
   "cell_type": "code",
   "execution_count": null,
   "id": "50ede053",
   "metadata": {},
   "outputs": [],
   "source": [
    "df.columns = ('sl','sw','pl','pw','v')"
   ]
  },
  {
   "cell_type": "code",
   "execution_count": null,
   "id": "da6670ec",
   "metadata": {},
   "outputs": [],
   "source": [
    "df.sample(5)"
   ]
  },
  {
   "cell_type": "code",
   "execution_count": null,
   "id": "5fe835e5",
   "metadata": {},
   "outputs": [],
   "source": [
    "df['v'] = df['v'].astype('category')\n",
    "df['v'] = df['v'].cat.codes"
   ]
  },
  {
   "cell_type": "code",
   "execution_count": null,
   "id": "8d6fcced",
   "metadata": {},
   "outputs": [],
   "source": [
    "from sklearn.preprocessing import MaxAbsScaler\n",
    "df[['sl','sw','pl','pw']] = MaxAbsScaler().fit_transform(df[['sl','sw','pl','pw']])"
   ]
  },
  {
   "cell_type": "code",
   "execution_count": null,
   "id": "a9f72c03",
   "metadata": {},
   "outputs": [],
   "source": [
    "df.dtypes"
   ]
  },
  {
   "cell_type": "code",
   "execution_count": null,
   "id": "e8c23042",
   "metadata": {},
   "outputs": [],
   "source": [
    "df['v'] = df['v'].astype(int)"
   ]
  },
  {
   "cell_type": "code",
   "execution_count": null,
   "id": "489a72a8",
   "metadata": {},
   "outputs": [],
   "source": [
    "df.isna().sum()"
   ]
  },
  {
   "cell_type": "code",
   "execution_count": null,
   "id": "cbea9f84",
   "metadata": {},
   "outputs": [],
   "source": [
    "df['sl'].fillna(df['sl'].mean(),inplace=True)\n",
    "df['sw'].fillna(df['sw'].mean(),inplace=True)\n",
    "df['pl'].fillna(df['pl'].mean(),inplace=True)\n",
    "df['pw'].fillna(df['pw'].mean(),inplace=True)\n",
    "df['v'].fillna(df['v'].mode()[0],inplace=True)"
   ]
  },
  {
   "cell_type": "code",
   "execution_count": null,
   "id": "a0ad6f42",
   "metadata": {},
   "outputs": [],
   "source": [
    "fig,axis = plt.subplots(2,2,figsize=(12,10))\n",
    "sns.boxplot(data = df, ax = axis[0][0] , y = 'sl')\n",
    "sns.boxplot(data = df, ax = axis[0][1] , y = 'sw')\n",
    "sns.boxplot(data = df, ax = axis[1][0] , y = 'pl')\n",
    "sns.boxplot(data = df, ax = axis[1][1] , y = 'pw')\n",
    "axis[0][0].set_title('Box_plot of SL')\n",
    "axis[0][1].set_title('Box_plot of SW')\n",
    "axis[1][0].set_title('Box_plot of PL')\n",
    "axis[1][1].set_title('Box_plot of PW')\n",
    "plt.show()"
   ]
  },
  {
   "cell_type": "code",
   "execution_count": null,
   "id": "7ced3f78",
   "metadata": {},
   "outputs": [],
   "source": [
    "def removeOutliers(df,var):\n",
    "    Q1 = df[var].quantile(0.25)\n",
    "    Q3 = df[var].quantile(0.75)\n",
    "    IQR = Q3 - Q1\n",
    "    high = Q3 + 1.5 * IQR\n",
    "    low = Q1 - 1.5 * IQR\n",
    "    return df[(df[var] >= low) & (df[var] <= high)]"
   ]
  },
  {
   "cell_type": "code",
   "execution_count": null,
   "id": "f4ac9c93",
   "metadata": {},
   "outputs": [],
   "source": [
    "df = removeOutliers(df,'sw')"
   ]
  },
  {
   "cell_type": "code",
   "execution_count": null,
   "id": "e3435421",
   "metadata": {},
   "outputs": [],
   "source": [
    "fig,axis = plt.subplots(2,2,figsize=(12,10))\n",
    "sns.histplot(data = df,ax = axis[0][0] , x = 'sl',multiple='dodge',kde=True)\n",
    "sns.histplot(data = df,ax = axis[0][1] , x = 'sw',multiple='dodge',kde=True)\n",
    "sns.histplot(data = df,ax = axis[1][0] , x = 'pl',multiple='dodge',kde=True)\n",
    "sns.histplot(data = df,ax = axis[1][1] , x = 'pw',multiple='dodge',kde=True)"
   ]
  },
  {
   "cell_type": "code",
   "execution_count": null,
   "id": "0f54d245",
   "metadata": {},
   "outputs": [],
   "source": [
    "print(df['sl'].skew())\n",
    "print(df['sw'].skew())\n",
    "print(df['pl'].skew())\n",
    "print(df['pw'].skew())"
   ]
  },
  {
   "cell_type": "code",
   "execution_count": null,
   "id": "a48df01f",
   "metadata": {},
   "outputs": [],
   "source": [
    "from sklearn.preprocessing import PowerTransformer\n",
    "df[['sl', 'sw', 'pl', 'pw']] = PowerTransformer().fit_transform(df[['sl', 'sw', 'pl', 'pw']])\n"
   ]
  }
 ],
 "metadata": {
  "kernelspec": {
   "display_name": "Python 3",
   "language": "python",
   "name": "python3"
  },
  "language_info": {
   "codemirror_mode": {
    "name": "ipython",
    "version": 3
   },
   "file_extension": ".py",
   "mimetype": "text/x-python",
   "name": "python",
   "nbconvert_exporter": "python",
   "pygments_lexer": "ipython3",
   "version": "3.12.0"
  }
 },
 "nbformat": 4,
 "nbformat_minor": 5
}
