{
 "cells": [
  {
   "cell_type": "code",
   "execution_count": null,
   "id": "44fd2e3e",
   "metadata": {},
   "outputs": [],
   "source": [
    "import pandas as pd\n",
    "import numpy as np\n",
    "import matplotlib.pyplot as plt\n",
    "import seaborn as sns\n"
   ]
  },
  {
   "cell_type": "code",
   "execution_count": null,
   "id": "a81594af",
   "metadata": {},
   "outputs": [],
   "source": [
    "df = pd.read_csv('iris.csv')\n",
    "df.head() "
   ]
  },
  {
   "cell_type": "code",
   "execution_count": null,
   "id": "406704fb",
   "metadata": {},
   "outputs": [],
   "source": [
    "df.columns = ('SL', 'SW', 'PL', 'PW', 'Species')"
   ]
  },
  {
   "cell_type": "code",
   "execution_count": null,
   "id": "29cca63e",
   "metadata": {},
   "outputs": [],
   "source": [
    "df.sample(5)"
   ]
  },
  {
   "cell_type": "code",
   "execution_count": null,
   "id": "594bafc2",
   "metadata": {},
   "outputs": [],
   "source": [
    
   ]
  },
  {
   "cell_type": "code",
   "execution_count": null,
   "id": "56dc3ee4",
   "metadata": {},
   "outputs": [],
   "source": [
    "df.isna().sum()"
   ]
  },
  {
   "cell_type": "code",
   "execution_count": null,
   "id": "b5621c2e",
   "metadata": {},
   "outputs": [],
   "source": [
    "df['SL'].fillna(df['SL'].mean(),inplace=True)\n",
    "df['SW'].fillna(df['SW'].mean(),inplace=True)\n",
    "df['PL'].fillna(df['PL'].mean(),inplace=True)\n",
    "df['PW'].fillna(df['PW'].mean(),inplace=True)"
   ]
  },
  {
   "cell_type": "code",
   "execution_count": null,
   "id": "1e6a8115",
   "metadata": {},
   "outputs": [],
   "source": [
    "print('Information of Dataset:\\n', df.info)\n",
    "print('Shape of Dataset (row x column): ', df.shape)\n",
    "print('Columns Name: ', df.columns)\n",
    "print('Total elements in dataset:', df.size)\n",
    "print('Datatype of attributes (columns):', df.dtypes)\n",
    "print('First 5 rows:\\n', df.head().T)\n",
    "print('Last 5 rows:\\n',df.tail().T)\n",
    "print('Any 5 rows:\\n',df.sample(5).T)"
   ]
  },
  {
   "cell_type": "code",
   "execution_count": null,
   "id": "c541b0eb",
   "metadata": {},
   "outputs": [],
   "source": [
    "fig, axis = plt.subplots(2,2,figsize=(12,10))\n",
    "sns.boxplot(ax = axis[0,0], data = df, y='SL')\n",
    "axis[0,0].set_title('Boxplot SL')\n",
    "sns.boxplot(ax = axis[0,1], data = df, y='SW')\n",
    "axis[0,1].set_title('Boxplot SW')\n",
    "sns.boxplot(ax = axis[1,0], data = df, y='PL')\n",
    "axis[1,0].set_title('Boxplot PL')\n",
    "sns.boxplot(ax = axis[1,1], data = df, y='PW')\n",
    "axis[1,1].set_title('Boxplot PW')\n",
    "plt.show()\n"
   ]
  },
  {
   "cell_type": "code",
   "execution_count": null,
   "id": "e30c4ceb",
   "metadata": {},
   "outputs": [],
   "source": [
    "fig, axis = plt.subplots(2,2,figsize=(12,10))\n",
    "sns.boxplot(data = df, ax = axis[0,0],  y = 'SL', hue = 'Species')\n",
    "sns.boxplot(data = df, ax = axis[0,1],  y = 'SW', hue = 'Species')\n",
    "sns.boxplot(data = df, ax = axis[1,0],  y = 'PL', hue = 'Species')\n",
    "sns.boxplot(data = df, ax = axis[1,1],  y = 'PW', hue = 'Species')\n",
    "plt.show()\n"
   ]
  },
  {
   "cell_type": "code",
   "execution_count": null,
   "id": "52f40ad9",
   "metadata": {},
   "outputs": [],
   "source": [
    "fig,axis = plt.subplots(2,2,figsize=(12,10))\n",
    "sns.histplot(ax = axis[0,0], data = df, x='SL', multiple = 'dodge', shrink = 0.9, kde = True)\n",
    "sns.histplot(ax = axis[0,1], data = df, x='SW', multiple = 'dodge', shrink = 0.9, kde = True)\n",
    "sns.histplot(ax = axis[1,0], data = df, x='PL', multiple = 'dodge', shrink = 0.9, kde = True)\n",
    "sns.histplot(ax = axis[1,1], data = df, x='PW', multiple = 'dodge', shrink = 0.9, kde = True)\n",
    "plt.show()\n"
   ]
  },
  {
   "cell_type": "code",
   "execution_count": null,
   "id": "f0a112b4",
   "metadata": {},
   "outputs": [],
   "source": [
    "fig, axis = plt.subplots(2,2,figsize=(12,10))\n",
    "sns.histplot(ax=axis[0,0], data = df, x='SL', hue = 'Species', element='poly', shrink = 0.8, kde = True)\n",
    "sns.histplot(ax=axis[0,1], data = df, x='SW', hue = 'Species', element='poly', shrink = 0.8, kde = True)\n",
    "sns.histplot(ax=axis[1,0], data = df, x='PL', hue = 'Species', element='poly', shrink = 0.8, kde = True)\n",
    "sns.histplot(ax=axis[1,1], data = df, x='PW', hue = 'Species', element='poly', shrink = 0.8, kde = True)\n",
    "plt.show()"
   ]
  },
  {
   "cell_type": "code",
   "execution_count": null,
   "id": "93f58ca5",
   "metadata": {},
   "outputs": [],
   "source": []
  }
 ],
 "metadata": {
  "kernelspec": {
   "display_name": "Python 3",
   "language": "python",
   "name": "python3"
  },
  "language_info": {
   "codemirror_mode": {
    "name": "ipython",
    "version": 3
   },
   "file_extension": ".py",
   "mimetype": "text/x-python",
   "name": "python",
   "nbconvert_exporter": "python",
   "pygments_lexer": "ipython3",
   "version": "3.12.0"
  }
 },
 "nbformat": 4,
 "nbformat_minor": 5
}
