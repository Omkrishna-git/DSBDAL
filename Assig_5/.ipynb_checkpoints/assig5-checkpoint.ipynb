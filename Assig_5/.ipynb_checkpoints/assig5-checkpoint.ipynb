{
 "cells": [
  {
   "cell_type": "code",
   "execution_count": null,
   "id": "fd5f9544",
   "metadata": {},
   "outputs": [],
   "source": [
    "import pandas as pd \n",
    "import numpy as np\n",
    "import matplotlib.pyplot as plt\n",
    "import seaborn as sns "
   ]
  },
  {
   "cell_type": "code",
   "execution_count": null,
   "id": "cf103ff8",
   "metadata": {},
   "outputs": [],
   "source": [
    "df = pd.read_csv('Social_Network_Ads.csv')\n",
    "print(df.head())\n",
    "print(df.tail())\n",
    "print(df.sample(5))\n"
   ]
  },
  {
   "cell_type": "code",
   "execution_count": null,
   "id": "3cd3a389",
   "metadata": {},
   "outputs": [],
   "source": [
    "df.size"
   ]
  },
  {
   "cell_type": "code",
   "execution_count": null,
   "id": "dd5bee24",
   "metadata": {},
   "outputs": [],
   "source": [
    "df.dtypes"
   ]
  },
  {
   "cell_type": "code",
   "execution_count": null,
   "id": "d35703ea",
   "metadata": {},
   "outputs": [],
   "source": [
    "df = df.drop('User ID',axis=1)\n"
   ]
  },
  {
   "cell_type": "code",
   "execution_count": null,
   "id": "cfbe5bd6",
   "metadata": {},
   "outputs": [],
   "source": [
    "df.head()"
   ]
  },
  {
   "cell_type": "code",
   "execution_count": null,
   "id": "a70e7005",
   "metadata": {},
   "outputs": [],
   "source": [
    "df.isnull().sum()"
   ]
  },
  {
   "cell_type": "code",
   "execution_count": null,
   "id": "c152ef9a",
   "metadata": {},
   "outputs": [],
   "source": [
    "df['Gender'] = df['Gender'].astype('category')\n",
    "df['Gender'] = df['Gender'].cat.codes\n"
   ]
  },
  {
   "cell_type": "code",
   "execution_count": null,
   "id": "97bb49b5",
   "metadata": {},
   "outputs": [],
   "source": [
    "df.head()"
   ]
  },
  {
   "cell_type": "code",
   "execution_count": null,
   "id": "5ea654c2",
   "metadata": {},
   "outputs": [],
   "source": [
    "from sklearn.preprocessing import MaxAbsScaler\n",
    "df[['EstimatedSalary']] = MaxAbsScaler().fit_transform(df[['EstimatedSalary']])"
   ]
  },
  {
   "cell_type": "code",
   "execution_count": null,
   "id": "6dfceae2",
   "metadata": {},
   "outputs": [],
   "source": [
    "fig, axes = plt.subplots(2, 2)  # 2x2 grid of subplots\n",
    "fig.suptitle(\"Box Plot\")\n",
    "\n",
    "sns.boxplot(data=df, x='Gender', ax=axes[0, 0])\n",
    "axes[0, 0].set_title('Gender')\n",
    "\n",
    "sns.boxplot(data=df, x='EstimatedSalary', ax=axes[0, 1])\n",
    "axes[0, 1].set_title('Estimated Salary')\n",
    "\n",
    "sns.boxplot(data=df, x='Purchased', ax=axes[1, 0])\n",
    "axes[1, 0].set_title('Purchased')\n",
    "\n",
    "sns.boxplot(data=df, x='Age', ax=axes[1, 1])\n",
    "axes[1, 1].set_title('Age')\n",
    "\n",
    "plt.tight_layout(rect=[0, 0.03, 1, 0.95]) \n",
    "plt.show()\n"
   ]
  },
  {
   "cell_type": "code",
   "execution_count": null,
   "id": "9e59f197",
   "metadata": {},
   "outputs": [],
   "source": [
    "def removeOutliers(df,var):\n",
    "    Q1 = df[var].quantile(0.25)\n",
    "    Q3 = df[var].quantile(0.75)\n",
    "    IQR = Q3-Q1\n",
    "    high = Q3 + IQR*1.5\n",
    "    low = Q1 - IQR*1.5\n",
    "    \n",
    "    return df[((df[var] >= low) & (df[var] <= high))]"
   ]
  },
  {
   "cell_type": "code",
   "execution_count": null,
   "id": "dd310a77",
   "metadata": {},
   "outputs": [],
   "source": [
    "sns.heatmap(df.corr(), annot=True)\n",
    "plt.title('Correlation Heatmap')\n",
    "plt.show()"
   ]
  },
  {
   "cell_type": "code",
   "execution_count": null,
   "id": "dc00982f",
   "metadata": {},
   "outputs": [],
   "source": [
    "def BuildModel(X, Y):\n",
    "    from sklearn.model_selection import train_test_split\n",
    "    xtrain, xtest, ytrain, ytest =train_test_split(X,Y,test_size= 0.25, random_state=13)\n",
    "\n",
    "    from sklearn.linear_model import LogisticRegression\n",
    "    model = LogisticRegression()\n",
    "    model = model.fit(xtrain,ytrain)\n",
    " \n",
    "    ypred = model.predict(xtest)\n",
    "\n",
    "    from sklearn.metrics import confusion_matrix\n",
    "    cm = confusion_matrix(ytest, ypred)\n",
    "    \n",
    "    sns.heatmap(cm, annot=True)\n",
    "    plt.show()\n",
    "\n",
    "    from sklearn.metrics import classification_report\n",
    "    print(classification_report(ytest, ypred))\n",
    "    \n"
   ]
  },
  {
   "cell_type": "code",
   "execution_count": null,
   "id": "54766281",
   "metadata": {},
   "outputs": [],
   "source": [
    "df.columns = ['Gender', 'Age', 'Salary', 'Purchased']"
   ]
  },
  {
   "cell_type": "code",
   "execution_count": null,
   "id": "d76a4b30",
   "metadata": {},
   "outputs": [],
   "source": [
    "print('Statistical information of Numerical Columns: \\n',df.describe())\n",
    "print('Total Number of Null Values in Dataset:', df.isna().sum())\n"
   ]
  },
  {
   "cell_type": "code",
   "execution_count": null,
   "id": "bbad6486",
   "metadata": {},
   "outputs": [],
   "source": [
    "sns.heatmap(df.corr(),annot=True)\n",
    "plt.show()\n"
   ]
  },
  {
   "cell_type": "code",
   "execution_count": null,
   "id": "ef1a8ee1",
   "metadata": {},
   "outputs": [],
   "source": [
    "X = df[['Age','Salary']]\n",
    "Y = df['Purchased']\n",
    "BuildModel(X, Y)\n"
   ]
  },
  {
   "cell_type": "code",
   "execution_count": null,
   "id": "375ffc30",
   "metadata": {},
   "outputs": [],
   "source": [
    "fig, axes = plt.subplots(1,2)\n",
    "sns.boxplot(data = df, x ='Age', ax=axes[0])\n",
    "sns.boxplot(data = df, x ='Salary', ax=axes[1])\n",
    "fig.tight_layout()\n",
    "plt.show()\n"
   ]
  },
  {
   "cell_type": "code",
   "execution_count": null,
   "id": "f603eaf9",
   "metadata": {},
   "outputs": [],
   "source": [
    "df = removeOutliers(df, 'Age')\n",
    "df = removeOutliers(df, 'Salary')\n",
    "X = df[['Age','Salary']]\n",
    "Y = df['Purchased']\n",
    "BuildModel(X, Y)\n"
   ]
  },
  {
   "cell_type": "markdown",
   "id": "12e80a5a",
   "metadata": {},
   "source": [
    "# Term | Meaning | Example\n",
    "# TP (True Positive) | Model predicted Positive, and it was actually Positive | Model says “yes” → actual is “yes”\n",
    "# TN (True Negative) | Model predicted Negative, and it was actually Negative | Model says “no” → actual is “no”\n",
    "# FP (False Positive) | Model predicted Positive, but it was actually Negative | Model says “yes” → actual is “no” (Type I Error)\n",
    "# FN (False Negative) | Model predicted Negative, but it was actually Positive | Model says “no” → actual is “yes” (Type II Error)\n",
    "     "
   ]
  },
  {
   "cell_type": "code",
   "execution_count": null,
   "id": "a3d2e4a5",
   "metadata": {},
   "outputs": [],
   "source": [
    "from sklearn.model_selection import train_test_split\n",
    "xtrain, xtest, ytrain, ytest =train_test_split(X,Y,test_size= 0.25, random_state=13)\n",
    "\n",
    "from sklearn.linear_model import LogisticRegression\n",
    "model = LogisticRegression()\n",
    "model = model.fit(xtrain,ytrain)\n",
    "\n",
    "ypred = model.predict(xtest)\n",
    "\n",
    "from sklearn.metrics import confusion_matrix\n",
    "cm = confusion_matrix(ytest, ypred)\n",
    "print(cm)"
   ]
  },
  {
   "cell_type": "code",
   "execution_count": null,
   "id": "4b8ef4ec",
   "metadata": {},
   "outputs": [],
   "source": [
    "a = cm.shape\n",
    "correct = 0\n",
    "inCorrect = 0\n",
    "\n",
    "for row in range(a[0]):\n",
    "    for col in range(a[1]):\n",
    "        if row == col:\n",
    "            correct += cm[row][col]\n",
    "        else:\n",
    "            inCorrect += cm[row][col]\n",
    "\n",
    "print(\"Correct Predicted : \",correct)\n",
    "print(\"Incorrected Predicted : \",inCorrect)\n",
    "print(\"Accuracy : \",correct/(correct+inCorrect))\n"
   ]
  },
  {
   "cell_type": "code",
   "execution_count": null,
   "id": "1049ed0f",
   "metadata": {},
   "outputs": [],
   "source": [
    "tp = cm[0][0]\n",
    "tn = cm[1][1]\n",
    "fp = cm[1][0]\n",
    "fn = cm[0][1]\n",
    "\n",
    "print(\"Recall : \",tp/(tp+fn))\n",
    "print(\"Precision : \",tp/(tp+fp))\n",
    "print(\"Accuracy : \",(tp+tn)/(tp+tn+fp+fn))"
   ]
  }
 ],
 "metadata": {
  "kernelspec": {
   "display_name": "Python 3",
   "language": "python",
   "name": "python3"
  },
  "language_info": {
   "codemirror_mode": {
    "name": "ipython",
    "version": 3
   },
   "file_extension": ".py",
   "mimetype": "text/x-python",
   "name": "python",
   "nbconvert_exporter": "python",
   "pygments_lexer": "ipython3",
   "version": "3.12.0"
  }
 },
 "nbformat": 4,
 "nbformat_minor": 5
}
