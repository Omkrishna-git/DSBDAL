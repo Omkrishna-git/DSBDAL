{
 "cells": [
  {
   "cell_type": "code",
   "execution_count": null,
   "id": "c4b23a5c",
   "metadata": {},
   "outputs": [],
   "source": [
    "import pandas as pd\n",
    "import numpy as np\n",
    "import seaborn as sns\n",
    "import matplotlib.pyplot as plt"
   ]
  },
  {
   "cell_type": "code",
   "execution_count": null,
   "id": "db26c815",
   "metadata": {},
   "outputs": [],
   "source": [
    "df = pd.read_csv('iris.csv') "
   ]
  },
  {
   "cell_type": "code",
   "execution_count": null,
   "id": "fd48f970",
   "metadata": {},
   "outputs": [],
   "source": [
    "print(df.head())\n",
    "print(df.sample(5))"
   ]
  },
  {
   "cell_type": "code",
   "execution_count": null,
   "id": "606f8832",
   "metadata": {},
   "outputs": [],
   "source": [
    "df.columns = [\"SL\",\"SW\",\"PL\",\"PW\",\"V\"] "
   ]
  },
  {
   "cell_type": "code",
   "execution_count": null,
   "id": "ff829e17",
   "metadata": {},
   "outputs": [],
   "source": [
    "df.isna().sum()\n"
   ]
  },
  {
   "cell_type": "code",
   "execution_count": null,
   "id": "3b12b02f",
   "metadata": {},
   "outputs": [],
   "source": [
    "df[\"SL\"].fillna(df[\"SL\"].mean(),inplace=True)\n",
    "df[\"SW\"].fillna(df[\"SW\"].mean(),inplace=True)\n",
    "df['PL'].fillna(df[\"PL\"].mean(),inplace=True)\n",
    "df[\"PW\"].fillna(df['PW'].mean(),inplace=True)\n",
    "df[\"V\"].fillna(df[\"V\"].mode()[0],inplace=True)"
   ]
  },
  {
   "cell_type": "code",
   "execution_count": null,
   "id": "cd6ee085",
   "metadata": {},
   "outputs": [],
   "source": [
    "df['V'] = df['V'].astype('category')\n",
    "df['V'] = df['V'].cat.codes"
   ]
  },
  {
   "cell_type": "code",
   "execution_count": null,
   "id": "5f7a6e19",
   "metadata": {},
   "outputs": [],
   "source": [
    "df.head()"
   ]
  },
  {
   "cell_type": "code",
   "execution_count": null,
   "id": "9d30ef56",
   "metadata": {},
   "outputs": [],
   "source": [
    "from sklearn.preprocessing import MaxAbsScaler\n",
    "\n",
    "mms = MaxAbsScaler()\n",
    "df[[\"SL\", \"SW\", \"PL\", \"PW\"]] = mms.fit_transform(df[[\"SL\", \"SW\", \"PL\", \"PW\"]])\n"
   ]
  },
  {
   "cell_type": "code",
   "execution_count": null,
   "id": "f83bd219",
   "metadata": {},
   "outputs": [],
   "source": [
    "df.sample(5)"
   ]
  },
  {
   "cell_type": "code",
   "execution_count": null,
   "id": "58bab795",
   "metadata": {},
   "outputs": [],
   "source": [
    "def RemoveOutlier(df,var):\n",
    "    Q1 = df[var].quantile(0.25)\n",
    "    Q3 = df[var].quantile(0.75)\n",
    "    IQR = Q3 - Q1\n",
    "    high, low = Q3+1.5*IQR, Q1-1.5*IQR\n",
    "\n",
    "    print(\"Highest allowed in variable:\", var, high)\n",
    "    print(\"lowest allowed in variable:\", var, low)\n",
    "    count = df[(df[var] > high) | (df[var] < low)][var].count()\n",
    "    print('Total outliers in:',var,':',count)\n",
    "    df = df[((df[var] >= low) & (df[var] <= high))]\n",
    "    return df\n"
   ]
  },
  {
   "cell_type": "code",
   "execution_count": null,
   "id": "73636316",
   "metadata": {},
   "outputs": [],
   "source": [
    "def BuildModel(X, Y):\n",
    "    from sklearn.model_selection import train_test_split\n",
    "    xtrain, xtest, ytrain, ytest =train_test_split(X,Y,test_size= 0.25, random_state=0)\n",
    "\n",
    "    from sklearn.naive_bayes import GaussianNB\n",
    "    model = GaussianNB()\n",
    "    model = model.fit(xtrain,ytrain)\n",
    "    ypred = model.predict(xtest)\n",
    "\n",
    "    from sklearn.metrics import confusion_matrix\n",
    "    cm = confusion_matrix(ytest, ypred)\n",
    "    sns.heatmap(cm, annot=True)\n",
    "    plt.show()\n",
    "\n",
    "    from sklearn.metrics import classification_report\n",
    "    print(classification_report(ytest, ypred))\n"
   ]
  },
  {
   "cell_type": "code",
   "execution_count": null,
   "id": "89cf44bd",
   "metadata": {},
   "outputs": [],
   "source": [
    "sns.heatmap(df.corr(),annot=True)\n",
    "plt.show()\n"
   ]
  },
  {
   "cell_type": "code",
   "execution_count": null,
   "id": "f24d1e8f",
   "metadata": {},
   "outputs": [],
   "source": [
    "X = df[['SL','SW', 'PL', 'PW']]\n",
    "Y = df['V']\n",
    "BuildModel(X, Y)\n"
   ]
  },
  {
   "cell_type": "code",
   "execution_count": null,
   "id": "3aabc0b0",
   "metadata": {},
   "outputs": [],
   "source": [
    "fig, axes = plt.subplots(2,2)\n",
    "sns.boxplot(data = df, x ='SL', ax=axes[0,0])\n",
    "sns.boxplot(data = df, x ='SW', ax=axes[0,1])\n",
    "sns.boxplot(data = df, x ='PL', ax=axes[1,0])\n",
    "sns.boxplot(data = df, x ='PW', ax=axes[1,1])\n",
    "plt.show()\n"
   ]
  },
  {
   "cell_type": "code",
   "execution_count": null,
   "id": "87ee8df5",
   "metadata": {},
   "outputs": [],
   "source": [
    "df = RemoveOutlier(df, 'SW')\n"
   ]
  },
  {
   "cell_type": "code",
   "execution_count": null,
   "id": "9702d2a5",
   "metadata": {},
   "outputs": [],
   "source": [
    "X = df[['SL','SW', 'PL', 'PW']]\n",
    "Y = df['V']\n",
    "BuildModel(X, Y)\n"
   ]
  },
  {
   "cell_type": "code",
   "execution_count": null,
   "id": "c4772a8f",
   "metadata": {},
   "outputs": [],
   "source": []
  }
 ],
 "metadata": {
  "kernelspec": {
   "display_name": "Python 3",
   "language": "python",
   "name": "python3"
  },
  "language_info": {
   "codemirror_mode": {
    "name": "ipython",
    "version": 3
   },
   "file_extension": ".py",
   "mimetype": "text/x-python",
   "name": "python",
   "nbconvert_exporter": "python",
   "pygments_lexer": "ipython3",
   "version": "3.12.0"
  }
 },
 "nbformat": 4,
 "nbformat_minor": 5
}
