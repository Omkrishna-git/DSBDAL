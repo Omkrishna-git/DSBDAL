{
 "cells": [
  {
   "cell_type": "code",
   "execution_count": 222,
   "id": "4d5bbc7b",
   "metadata": {},
   "outputs": [],
   "source": [
    "import pandas as pd\n",
    "import nltk  # Natural Language Toolkit for NLP tasks\n",
    "import re    # Regular Expressions for text preprocessing\n"
   ]
  },
  {
   "cell_type": "code",
   "execution_count": 223,
   "id": "f269367f",
   "metadata": {},
   "outputs": [
    {
     "name": "stderr",
     "output_type": "stream",
     "text": [
      "[nltk_data] Downloading package punkt to\n",
      "[nltk_data]     C:\\Users\\HP\\AppData\\Roaming\\nltk_data...\n",
      "[nltk_data]   Package punkt is already up-to-date!\n",
      "[nltk_data] Downloading package stopwords to\n",
      "[nltk_data]     C:\\Users\\HP\\AppData\\Roaming\\nltk_data...\n",
      "[nltk_data]   Package stopwords is already up-to-date!\n",
      "[nltk_data] Downloading package wordnet to\n",
      "[nltk_data]     C:\\Users\\HP\\AppData\\Roaming\\nltk_data...\n",
      "[nltk_data]   Package wordnet is already up-to-date!\n",
      "[nltk_data] Downloading package averaged_perceptron_tagger to\n",
      "[nltk_data]     C:\\Users\\HP\\AppData\\Roaming\\nltk_data...\n",
      "[nltk_data]   Package averaged_perceptron_tagger is already up-to-\n",
      "[nltk_data]       date!\n"
     ]
    },
    {
     "data": {
      "text/plain": [
       "True"
      ]
     },
     "execution_count": 223,
     "metadata": {},
     "output_type": "execute_result"
    }
   ],
   "source": [
    "nltk.download('punkt')  # For tokenization\n",
    "nltk.download('stopwords')  # For stop word list\n",
    "nltk.download('wordnet')  # For lemmatization\n",
    "nltk.download('averaged_perceptron_tagger')  # For POS tagging\n"
   ]
  },
  {
   "cell_type": "code",
   "execution_count": 224,
   "id": "006f2cea",
   "metadata": {},
   "outputs": [],
   "source": [
    "with open('doc_01.txt','r') as file:\n",
    "  text = file.read()\n",
    "with open('doc_02.txt','r')as file:\n",
    "  text1 = file.read()\n",
    "  \n",
    "# print('The given sentences are: \\n', text)\n"
   ]
  },
  {
   "cell_type": "markdown",
   "id": "bd46e8d2",
   "metadata": {},
   "source": [
    "🔹 Sentence Tokenization"
   ]
  },
  {
   "cell_type": "code",
   "execution_count": 225,
   "id": "452ffe53",
   "metadata": {},
   "outputs": [
    {
     "name": "stdout",
     "output_type": "stream",
     "text": [
      "\n",
      " Sentence Tokenization: \n",
      " ['Hi onkar.', 'How was your day']\n"
     ]
    }
   ],
   "source": [
    "from nltk.tokenize import sent_tokenize\n",
    "text = \"Hi onkar. How was your day\"\n",
    "tokenized_text = sent_tokenize(text)\n",
    "print(\"\\n Sentence Tokenization: \\n\", tokenized_text)\n"
   ]
  },
  {
   "cell_type": "markdown",
   "id": "82c4dfb9",
   "metadata": {},
   "source": [
    "🔹 Word Tokenization"
   ]
  },
  {
   "cell_type": "code",
   "execution_count": 226,
   "id": "90d58346",
   "metadata": {},
   "outputs": [
    {
     "name": "stdout",
     "output_type": "stream",
     "text": [
      "\n",
      "Word Tokeniztion: \n",
      " ['Hi', 'onkar', '.', 'How', 'was', 'your', 'day']\n"
     ]
    }
   ],
   "source": [
    "from nltk.tokenize import word_tokenize\n",
    "text = \"Hi onkar. How was your day\"\n",
    "tokenized_word = word_tokenize(text)\n",
    "print('\\nWord Tokeniztion: \\n', tokenized_word)\n"
   ]
  },
  {
   "cell_type": "markdown",
   "id": "9055d9f0",
   "metadata": {},
   "source": [
    "🔹 Stop Word Removal"
   ]
  },
  {
   "cell_type": "code",
   "execution_count": 227,
   "id": "4cddfec4",
   "metadata": {},
   "outputs": [
    {
     "name": "stdout",
     "output_type": "stream",
     "text": [
      "Tokenized Sentence: ['hi', 'onkar', 'how', 'was', 'your', 'day']\n",
      "Filterd Sentence: ['hi', 'onkar', 'day']\n"
     ]
    }
   ],
   "source": [
    "from nltk.corpus import stopwords\n",
    "stop_words = set(stopwords.words(\"english\"))\n",
    "\n",
    "# print(\"Text file : \",text)\n",
    "text = \"Hi onkar. How was your day\"\n",
    "text = re.sub('[^a-zA-Z]', ' ', text)\n",
    "# print(\"Text file : \",text)\n",
    "\n",
    "tokens = word_tokenize(text.lower())\n",
    "filtered_text = []\n",
    "\n",
    "for w in tokens:\n",
    "    if w not in stop_words:\n",
    "        filtered_text.append(w)\n",
    "\n",
    "\n",
    "\n",
    "print (\"Tokenized Sentence:\", tokens)\n",
    "print (\"Filterd Sentence:\", filtered_text)\n"
   ]
  },
  {
   "cell_type": "markdown",
   "id": "02c1bfe9",
   "metadata": {},
   "source": [
    "🔹 Stemming"
   ]
  },
  {
   "cell_type": "code",
   "execution_count": 228,
   "id": "0a9c92d6",
   "metadata": {},
   "outputs": [
    {
     "name": "stdout",
     "output_type": "stream",
     "text": [
      "Stemming for  wait :  wait\n",
      "Stemming for  waiting :  wait\n",
      "Stemming for  waited :  wait\n",
      "Stemming for  waits :  wait\n"
     ]
    }
   ],
   "source": [
    "from nltk.stem import PorterStemmer\n",
    "e_words = [\"wait\", \"waiting\", \"waited\", \"waits\"]\n",
    "ps = PorterStemmer()\n",
    "for w in e_words:\n",
    "    rootWord = ps.stem(w)\n",
    "    print('Stemming for ', w, ': ', rootWord)\n"
   ]
  },
  {
   "cell_type": "markdown",
   "id": "393f184a",
   "metadata": {},
   "source": [
    "🔹 Lemmatization"
   ]
  },
  {
   "cell_type": "code",
   "execution_count": 229,
   "id": "f15c5ec7",
   "metadata": {},
   "outputs": [
    {
     "name": "stdout",
     "output_type": "stream",
     "text": [
      "Lemma for studies is study\n",
      "Lemma for studying is studying\n",
      "Lemma for cries is cry\n",
      "Lemma for cry is cry\n"
     ]
    }
   ],
   "source": [
    "from nltk.stem import WordNetLemmatizer\n",
    "wordnet_lemmatizer = WordNetLemmatizer()\n",
    "\n",
    "text = \"studies studying cries cry\"\n",
    "tokenization = nltk.word_tokenize(text)\n",
    "\n",
    "for w in tokenization:\n",
    "    print(\"Lemma for {} is {}\".format(w, wordnet_lemmatizer.lemmatize(w)))\n"
   ]
  },
  {
   "cell_type": "markdown",
   "id": "d6ace427",
   "metadata": {},
   "source": [
    "1. TF (Term Frequency) :- Term Frequency measures how frequently a word occurs in a document.\n",
    "\n",
    "          TF(t) = (Number of times term t appears in a document) / (Total number of terms in the document)\n",
    "\n",
    "2. IDF (Inverse Document Frequency) :- Inverse Document Frequency measures how important a word is by reducing the weight of common words.\n",
    "\n",
    "                           IDF(t) = log(N / df(t))\n",
    "\n",
    "    Where:\n",
    "    - N: Total number of documents\n",
    "    - df(t): Number of documents containing the term t\n",
    "\n",
    "3. TF-IDF (Term Frequency × Inverse Document Frequency)\n",
    "Combines both: TF tells how often, IDF tells how rare, so together:\n",
    "\n",
    "                            TF-IDF(t) = TF(t) × IDF(t)\n"
   ]
  },
  {
   "cell_type": "code",
   "execution_count": 230,
   "id": "e8288501",
   "metadata": {},
   "outputs": [],
   "source": [
    "def computeTF(wordDict, bagOfWords):\n",
    "    tf = {}\n",
    "    n = len(bagOfWords)\n",
    "    \n",
    "    for word, count in wordDict.items():\n",
    "        tf[word] = count / float(n)\n",
    "        \n",
    "    return tf\n"
   ]
  },
  {
   "cell_type": "code",
   "execution_count": 231,
   "id": "7d2e239e",
   "metadata": {},
   "outputs": [],
   "source": [
    "import math\n",
    "\n",
    "def computeIDF(documents):\n",
    "    idf = {}\n",
    "    N = len(documents)\n",
    "\n",
    "    # Count how many documents contain each word\n",
    "    for doc in documents:\n",
    "        for word, val in doc.items():\n",
    "            if val > 0:\n",
    "                idf[word] = idf.get(word, 0) + 1\n",
    "\n",
    "    # Apply IDF formula: log(N / df(t))\n",
    "    for word, val in idf.items():\n",
    "        idf[word] = math.log(N / float(val))\n",
    "\n",
    "    return idf\n",
    "\n"
   ]
  },
  {
   "cell_type": "code",
   "execution_count": 232,
   "id": "ecbc1fb6",
   "metadata": {},
   "outputs": [],
   "source": [
    "\n",
    "def computeTFIDF(tf, idfs):\n",
    "    tfidf = {}\n",
    "    \n",
    "    for word, val in tf.items():\n",
    "        tfidf[word] = val * idfs[word]\n",
    "        \n",
    "    return tfidf\n"
   ]
  },
  {
   "cell_type": "markdown",
   "id": "ec12ef47",
   "metadata": {},
   "source": [
    "🔹 TF-IDF from Scratch"
   ]
  },
  {
   "cell_type": "code",
   "execution_count": 234,
   "id": "04e24032",
   "metadata": {},
   "outputs": [
    {
     "name": "stdout",
     "output_type": "stream",
     "text": [
      "---------------- Term Frequency ----------------------\n",
      "           0      1\n",
      "Mars     0.0  0.125\n",
      "the      0.2  0.250\n",
      "Sun      0.0  0.125\n",
      "Jupiter  0.2  0.000\n",
      "fourth   0.0  0.125\n",
      "planet   0.2  0.125\n",
      "is       0.2  0.125\n",
      "largest  0.2  0.000\n",
      "from     0.0  0.125\n",
      "---------------- Inverse Document Frequency ----------------------\n",
      "              IDF\n",
      "the      0.000000\n",
      "Jupiter  0.693147\n",
      "planet   0.000000\n",
      "is       0.000000\n",
      "largest  0.693147\n",
      "Mars     0.693147\n",
      "Sun      0.693147\n",
      "fourth   0.693147\n",
      "from     0.693147\n",
      "------------------- TF-IDF --------------------------------------\n",
      "                0         1\n",
      "Mars     0.000000  0.086643\n",
      "the      0.000000  0.000000\n",
      "Sun      0.000000  0.086643\n",
      "Jupiter  0.138629  0.000000\n",
      "fourth   0.000000  0.086643\n",
      "planet   0.000000  0.000000\n",
      "is       0.000000  0.000000\n",
      "largest  0.138629  0.000000\n",
      "from     0.000000  0.086643\n"
     ]
    }
   ],
   "source": [
    "#--------------------------------------------------------------------------------------------------\n",
    "# Algorithm to Create Representation of Documents by Calculating TF-IDF\n",
    "#--------------------------------------------------------------------------------------------------\n",
    "\n",
    "# Step 1: Import the necessary libraries.\n",
    "import pandas as pd\n",
    "from sklearn.feature_extraction.text import TfidfVectorizer\n",
    "\n",
    "# Step 2: Initialize the Documents.\n",
    "text = 'Jupiter is the largest planet'\n",
    "text1 = 'Mars is the fourth planet from the Sun'\n",
    "\n",
    "# Step 3: Create Bag of Words (BoW) for Document A and B using word tokenization.\n",
    "bagOfWordsA = text.split(' ')\n",
    "bagOfWordsB = text1.split(' ')\n",
    "\n",
    "# Step 4: Create a collection of unique words from Document A and B.\n",
    "uniqueWords = set(bagOfWordsA).union(set(bagOfWordsB))\n",
    "\n",
    "# Step 5: Create a dictionary of word occurrences for each document in the corpus.\n",
    "numOfWordsA = dict.fromkeys(uniqueWords, 0)\n",
    "for word in bagOfWordsA:\n",
    "    numOfWordsA[word] += 1  # How many times each word is repeated in document A\n",
    "\n",
    "numOfWordsB = dict.fromkeys(uniqueWords, 0)\n",
    "for word in bagOfWordsB:\n",
    "    numOfWordsB[word] += 1  # How many times each word is repeated in document B\n",
    "\n",
    "# Step 6: Compute the Term Frequency (TF) for each document.\n",
    "tfA = computeTF(numOfWordsA, bagOfWordsA)\n",
    "tfB = computeTF(numOfWordsB, bagOfWordsB)\n",
    "\n",
    "# Step 7: Display the Term Frequencies.\n",
    "print('---------------- Term Frequency ----------------------')\n",
    "df = pd.DataFrame([tfA, tfB])\n",
    "print(df.T)\n",
    "\n",
    "# Step 8: Compute the Inverse Document Frequency (IDF).\n",
    "idfs = computeIDF([numOfWordsA, numOfWordsB])\n",
    "print('---------------- Inverse Document Frequency ----------------------')\n",
    "print(pd.DataFrame(idfs, index=[\"IDF\"]).T)\n",
    "\n",
    "\n",
    "# Step 9: Compute the TF-IDF scores.\n",
    "tfidfA = computeTFIDF(tfA, idfs)\n",
    "tfidfB = computeTFIDF(tfB, idfs)\n",
    "\n",
    "# Step 10: Display the TF-IDF scores.\n",
    "print('------------------- TF-IDF --------------------------------------')\n",
    "df = pd.DataFrame([tfidfA, tfidfB])\n",
    "print(df.T)\n"
   ]
  }
 ],
 "metadata": {
  "kernelspec": {
   "display_name": "Python 3",
   "language": "python",
   "name": "python3"
  },
  "language_info": {
   "codemirror_mode": {
    "name": "ipython",
    "version": 3
   },
   "file_extension": ".py",
   "mimetype": "text/x-python",
   "name": "python",
   "nbconvert_exporter": "python",
   "pygments_lexer": "ipython3",
   "version": "3.12.0"
  }
 },
 "nbformat": 4,
 "nbformat_minor": 5
}
