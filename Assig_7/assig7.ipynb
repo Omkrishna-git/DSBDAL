{
 "cells": [
  {
   "cell_type": "code",
   "execution_count": 67,
   "id": "4d5bbc7b",
   "metadata": {},
   "outputs": [],
   "source": [
    "import pandas as pd\n",
    "import nltk  # Natural Language Toolkit for NLP tasks\n",
    "import re    # Regular Expressions for text preprocessing\n"
   ]
  },
  {
   "cell_type": "code",
   "execution_count": 68,
   "id": "f269367f",
   "metadata": {},
   "outputs": [
    {
     "name": "stderr",
     "output_type": "stream",
     "text": [
      "[nltk_data] Downloading package punkt to\n",
      "[nltk_data]     C:\\Users\\HP\\AppData\\Roaming\\nltk_data...\n",
      "[nltk_data]   Package punkt is already up-to-date!\n",
      "[nltk_data] Downloading package stopwords to\n",
      "[nltk_data]     C:\\Users\\HP\\AppData\\Roaming\\nltk_data...\n",
      "[nltk_data]   Package stopwords is already up-to-date!\n",
      "[nltk_data] Downloading package wordnet to\n",
      "[nltk_data]     C:\\Users\\HP\\AppData\\Roaming\\nltk_data...\n",
      "[nltk_data]   Package wordnet is already up-to-date!\n",
      "[nltk_data] Downloading package averaged_perceptron_tagger to\n",
      "[nltk_data]     C:\\Users\\HP\\AppData\\Roaming\\nltk_data...\n",
      "[nltk_data]   Package averaged_perceptron_tagger is already up-to-\n",
      "[nltk_data]       date!\n"
     ]
    },
    {
     "data": {
      "text/plain": [
       "True"
      ]
     },
     "execution_count": 68,
     "metadata": {},
     "output_type": "execute_result"
    }
   ],
   "source": [
    "nltk.download('punkt')  # For tokenization\n",
    "nltk.download('stopwords')  # For stop word list\n",
    "nltk.download('wordnet')  # For lemmatization\n",
    "nltk.download('averaged_perceptron_tagger')  # For POS tagging\n"
   ]
  },
  {
   "cell_type": "code",
   "execution_count": 69,
   "id": "e8288501",
   "metadata": {},
   "outputs": [],
   "source": [
    "def computeTF(wordDict, bagOfWords):\n",
    "    tfDict = {}\n",
    "    bagOfWordsCount = len(bagOfWords)\n",
    "    for word, count in wordDict.items():\n",
    "        tfDict[word] = count / float(bagOfWordsCount)\n",
    "    return tfDict\n"
   ]
  },
  {
   "cell_type": "code",
   "execution_count": 70,
   "id": "7d2e239e",
   "metadata": {},
   "outputs": [],
   "source": [
    "def computeIDF(documents):\n",
    "    import math\n",
    "    N = len(documents)  # Total number of documents\n",
    "    idfDict = dict.fromkeys(documents[0].keys(), 0)\n",
    "    \n",
    "    for document in documents:\n",
    "        for word, val in document.items():\n",
    "            if val > 0:\n",
    "                idfDict[word] += 1\n",
    "    \n",
    "    for word, val in idfDict.items():\n",
    "        if val > 0:\n",
    "            idfDict[word] = math.log(N / float(val))\n",
    "        else:\n",
    "            idfDict[word] = 0\n",
    "    return idfDict\n"
   ]
  },
  {
   "cell_type": "code",
   "execution_count": 71,
   "id": "ecbc1fb6",
   "metadata": {},
   "outputs": [],
   "source": [
    "def computeTFIDF(tfBagOfWords, idfs):\n",
    "    tfidf = {}\n",
    "    for word, val in tfBagOfWords.items():\n",
    "        tfidf[word] = val * idfs[word]\n",
    "    return tfidf\n"
   ]
  },
  {
   "cell_type": "code",
   "execution_count": 72,
   "id": "006f2cea",
   "metadata": {},
   "outputs": [
    {
     "name": "stdout",
     "output_type": "stream",
     "text": [
      "The given sentences are: \n",
      " Tokenization is the first step in text analytics. The process of breaking down a text paragraph into smaller chunks such as words or sentences is called Tokenization.\n"
     ]
    }
   ],
   "source": [
    "text= \"Tokenization is the first step in text analytics. The process of breaking down a text paragraph into smaller chunks such as words or sentences is called Tokenization.\"\n",
    "print('The given sentences are: \\n', text)\n"
   ]
  },
  {
   "cell_type": "markdown",
   "id": "bd46e8d2",
   "metadata": {},
   "source": [
    "🔹 Sentence Tokenization"
   ]
  },
  {
   "cell_type": "code",
   "execution_count": 73,
   "id": "452ffe53",
   "metadata": {},
   "outputs": [
    {
     "name": "stdout",
     "output_type": "stream",
     "text": [
      "\n",
      " Sentence Tokenization: \n",
      " ['Tokenization is the first step in text analytics.', 'The process of breaking down a text paragraph into smaller chunks such as words or sentences is called Tokenization.']\n"
     ]
    }
   ],
   "source": [
    "from nltk.tokenize import sent_tokenize\n",
    "tokenized_text = sent_tokenize(text)\n",
    "print(\"\\n Sentence Tokenization: \\n\", tokenized_text)\n"
   ]
  },
  {
   "cell_type": "markdown",
   "id": "82c4dfb9",
   "metadata": {},
   "source": [
    "🔹 Word Tokenization"
   ]
  },
  {
   "cell_type": "code",
   "execution_count": 74,
   "id": "90d58346",
   "metadata": {},
   "outputs": [
    {
     "name": "stdout",
     "output_type": "stream",
     "text": [
      "\n",
      "Word Tokeniztion: \n",
      " ['Tokenization', 'is', 'the', 'first', 'step', 'in', 'text', 'analytics', '.', 'The', 'process', 'of', 'breaking', 'down', 'a', 'text', 'paragraph', 'into', 'smaller', 'chunks', 'such', 'as', 'words', 'or', 'sentences', 'is', 'called', 'Tokenization', '.']\n"
     ]
    }
   ],
   "source": [
    "from nltk.tokenize import word_tokenize\n",
    "tokenized_word = word_tokenize(text)\n",
    "print('\\nWord Tokeniztion: \\n', tokenized_word)\n"
   ]
  },
  {
   "cell_type": "markdown",
   "id": "9055d9f0",
   "metadata": {},
   "source": [
    "🔹 Stop Word Removal"
   ]
  },
  {
   "cell_type": "code",
   "execution_count": 75,
   "id": "4cddfec4",
   "metadata": {},
   "outputs": [],
   "source": [
    "from nltk.corpus import stopwords\n",
    "stop_words = set(stopwords.words(\"english\"))\n"
   ]
  },
  {
   "cell_type": "code",
   "execution_count": 76,
   "id": "47e7825f",
   "metadata": {},
   "outputs": [],
   "source": [
    "text = \"How to remove stop words with NLTK library in Python?\"\n",
    "text = re.sub('[^a-zA-Z]', ' ', text)\n",
    "tokens = word_tokenize(text.lower())\n",
    "filtered_text = []\n",
    "for w in tokens:\n",
    "    if w not in stop_words:\n",
    "        filtered_text.append(w)\n"
   ]
  },
  {
   "cell_type": "code",
   "execution_count": 77,
   "id": "05de9d2a",
   "metadata": {},
   "outputs": [
    {
     "name": "stdout",
     "output_type": "stream",
     "text": [
      "Tokenized Sentence: ['how', 'to', 'remove', 'stop', 'words', 'with', 'nltk', 'library', 'in', 'python']\n",
      "Filterd Sentence: ['remove', 'stop', 'words', 'nltk', 'library', 'python']\n"
     ]
    }
   ],
   "source": [
    "print (\"Tokenized Sentence:\", tokens)\n",
    "print (\"Filterd Sentence:\", filtered_text)\n"
   ]
  },
  {
   "cell_type": "markdown",
   "id": "02c1bfe9",
   "metadata": {},
   "source": [
    "🔹 Stemming"
   ]
  },
  {
   "cell_type": "code",
   "execution_count": 78,
   "id": "0a9c92d6",
   "metadata": {},
   "outputs": [
    {
     "name": "stdout",
     "output_type": "stream",
     "text": [
      "Stemming for  wait :  wait\n",
      "Stemming for  waiting :  wait\n",
      "Stemming for  waited :  wait\n",
      "Stemming for  waits :  wait\n"
     ]
    }
   ],
   "source": [
    "from nltk.stem import PorterStemmer\n",
    "e_words = [\"wait\", \"waiting\", \"waited\", \"waits\"]\n",
    "ps = PorterStemmer()\n",
    "for w in e_words:\n",
    "    rootWord = ps.stem(w)\n",
    "    print('Stemming for ', w, ': ', rootWord)\n"
   ]
  },
  {
   "cell_type": "markdown",
   "id": "393f184a",
   "metadata": {},
   "source": [
    "🔹 Lemmatization"
   ]
  },
  {
   "cell_type": "code",
   "execution_count": 79,
   "id": "f15c5ec7",
   "metadata": {},
   "outputs": [
    {
     "name": "stdout",
     "output_type": "stream",
     "text": [
      "Lemma for studies is study\n",
      "Lemma for studying is studying\n",
      "Lemma for cries is cry\n",
      "Lemma for cry is cry\n"
     ]
    }
   ],
   "source": [
    "from nltk.stem import WordNetLemmatizer\n",
    "wordnet_lemmatizer = WordNetLemmatizer()\n",
    "text = \"studies studying cries cry\"\n",
    "tokenization = nltk.word_tokenize(text)\n",
    "for w in tokenization:\n",
    "    print(\"Lemma for {} is {}\".format(w, wordnet_lemmatizer.lemmatize(w)))\n"
   ]
  },
  {
   "cell_type": "markdown",
   "id": "ec12ef47",
   "metadata": {},
   "source": [
    "🔹 TF-IDF from Scratch"
   ]
  },
  {
   "cell_type": "code",
   "execution_count": 80,
   "id": "04e24032",
   "metadata": {},
   "outputs": [],
   "source": [
    "from sklearn.feature_extraction.text import TfidfVectorizer\n",
    "\n",
    "documentA = 'Jupiter is the largest planet'\n",
    "documentB = 'Mars is the fourth planet from the Sun'\n",
    "\n",
    "bagOfWordsA = documentA.split(' ')\n",
    "bagOfWordsB = documentB.split(' ')\n",
    "\n",
    "uniqueWords = set(bagOfWordsA).union(set(bagOfWordsB))\n",
    "numOfWordsA = dict.fromkeys(uniqueWords, 0)\n",
    "\n",
    "for word in bagOfWordsA:\n",
    "    numOfWordsA[word] += 1\n",
    "    \n",
    "numOfWordsB = dict.fromkeys(uniqueWords, 0)\n",
    "\n",
    "for word in bagOfWordsB:\n",
    "    numOfWordsB[word] += 1\n"
   ]
  },
  {
   "cell_type": "markdown",
   "id": "de3ed37d",
   "metadata": {},
   "source": [
    "🔹 TF Calculation"
   ]
  },
  {
   "cell_type": "code",
   "execution_count": 81,
   "id": "8f6af3a1",
   "metadata": {},
   "outputs": [],
   "source": [
    "tfA = computeTF(numOfWordsA, bagOfWordsA)\n",
    "tfB = computeTF(numOfWordsB, bagOfWordsB)\n"
   ]
  },
  {
   "cell_type": "markdown",
   "id": "5c828c34",
   "metadata": {},
   "source": [
    "🔹 Display Term Frequencies"
   ]
  },
  {
   "cell_type": "code",
   "execution_count": 82,
   "id": "3e53fd4a",
   "metadata": {},
   "outputs": [
    {
     "name": "stdout",
     "output_type": "stream",
     "text": [
      "----------------Term Frequency----------------------\n",
      "    Mars   the    Sun  Jupiter  fourth  planet     is  largest   from\n",
      "0  0.000  0.20  0.000      0.2   0.000   0.200  0.200      0.2  0.000\n",
      "1  0.125  0.25  0.125      0.0   0.125   0.125  0.125      0.0  0.125\n"
     ]
    }
   ],
   "source": [
    "print('----------------Term Frequency----------------------')\n",
    "df = pd.DataFrame([tfA, tfB])\n",
    "print(df)\n"
   ]
  },
  {
   "cell_type": "markdown",
   "id": "5720ed44",
   "metadata": {},
   "source": [
    "🔹 IDF & TF-IDF Calculation"
   ]
  },
  {
   "cell_type": "code",
   "execution_count": 83,
   "id": "d222839a",
   "metadata": {},
   "outputs": [
    {
     "name": "stdout",
     "output_type": "stream",
     "text": [
      "----------------Inverse Document Frequency----------------------\n",
      "{'Mars': 0.6931471805599453, 'the': 0.0, 'Sun': 0.6931471805599453, 'Jupiter': 0.6931471805599453, 'fourth': 0.6931471805599453, 'planet': 0.0, 'is': 0.0, 'largest': 0.6931471805599453, 'from': 0.6931471805599453}\n",
      "------------------- TF-IDF--------------------------------------\n",
      "       Mars  the       Sun   Jupiter    fourth  planet   is   largest  \\\n",
      "0  0.000000  0.0  0.000000  0.138629  0.000000     0.0  0.0  0.138629   \n",
      "1  0.086643  0.0  0.086643  0.000000  0.086643     0.0  0.0  0.000000   \n",
      "\n",
      "       from  \n",
      "0  0.000000  \n",
      "1  0.086643  \n"
     ]
    }
   ],
   "source": [
    "idfs = computeIDF([numOfWordsA, numOfWordsB])\n",
    "print('----------------Inverse Document Frequency----------------------')\n",
    "print(idfs)\n",
    "\n",
    "\n",
    "tfidfA = computeTFIDF(tfA, idfs)\n",
    "tfidfB = computeTFIDF(tfB, idfs)\n",
    "print('------------------- TF-IDF--------------------------------------')\n",
    "df = pd.DataFrame([tfidfA, tfidfB])\n",
    "print(df)\n",
    "\n"
   ]
  },
  {
   "cell_type": "code",
   "execution_count": null,
   "id": "5fe23810",
   "metadata": {},
   "outputs": [],
   "source": []
  }
 ],
 "metadata": {
  "kernelspec": {
   "display_name": "Python 3",
   "language": "python",
   "name": "python3"
  },
  "language_info": {
   "codemirror_mode": {
    "name": "ipython",
    "version": 3
   },
   "file_extension": ".py",
   "mimetype": "text/x-python",
   "name": "python",
   "nbconvert_exporter": "python",
   "pygments_lexer": "ipython3",
   "version": "3.12.0"
  }
 },
 "nbformat": 4,
 "nbformat_minor": 5
}
