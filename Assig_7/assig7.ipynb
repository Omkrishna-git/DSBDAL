{
 "cells": [
  {
   "cell_type": "code",
   "execution_count": 179,
   "id": "4d5bbc7b",
   "metadata": {},
   "outputs": [],
   "source": [
    "import pandas as pd\n",
    "import nltk  # Natural Language Toolkit for NLP tasks\n",
    "import re    # Regular Expressions for text preprocessing\n"
   ]
  },
  {
   "cell_type": "code",
   "execution_count": 180,
   "id": "f269367f",
   "metadata": {},
   "outputs": [
    {
     "name": "stderr",
     "output_type": "stream",
     "text": [
      "[nltk_data] Downloading package punkt to\n",
      "[nltk_data]     C:\\Users\\HP\\AppData\\Roaming\\nltk_data...\n",
      "[nltk_data]   Package punkt is already up-to-date!\n",
      "[nltk_data] Downloading package stopwords to\n",
      "[nltk_data]     C:\\Users\\HP\\AppData\\Roaming\\nltk_data...\n",
      "[nltk_data]   Package stopwords is already up-to-date!\n",
      "[nltk_data] Downloading package wordnet to\n",
      "[nltk_data]     C:\\Users\\HP\\AppData\\Roaming\\nltk_data...\n",
      "[nltk_data]   Package wordnet is already up-to-date!\n",
      "[nltk_data] Downloading package averaged_perceptron_tagger to\n",
      "[nltk_data]     C:\\Users\\HP\\AppData\\Roaming\\nltk_data...\n",
      "[nltk_data]   Package averaged_perceptron_tagger is already up-to-\n",
      "[nltk_data]       date!\n"
     ]
    },
    {
     "data": {
      "text/plain": [
       "True"
      ]
     },
     "execution_count": 180,
     "metadata": {},
     "output_type": "execute_result"
    }
   ],
   "source": [
    "nltk.download('punkt')  # For tokenization\n",
    "nltk.download('stopwords')  # For stop word list\n",
    "nltk.download('wordnet')  # For lemmatization\n",
    "nltk.download('averaged_perceptron_tagger')  # For POS tagging\n"
   ]
  },
  {
   "cell_type": "code",
   "execution_count": 181,
   "id": "006f2cea",
   "metadata": {},
   "outputs": [
    {
     "name": "stdout",
     "output_type": "stream",
     "text": [
      "The given sentences are: \n",
      " Between 2016 and 2019, the state forest department under theÂ BJPÂ government had launched â€˜Green Maharashtraâ€™ drive with an aim to plant 50 crore trees across the state in the four-year period. In October 2019, the government had claimed it had surpassed the target by planting 33 crore trees in July-September 2019.Â The Indian ExpressÂ had found that non-forest agencies â€” such as gram panchayats â€” which were tasked with planting trees had not uploaded the mandatory audio-visual proof of the tree plantation drives on the specially created portal.\n",
      "In Pune Revenue Division, it was claimed the gram panchayats planted 1.7 crore saplings; however, no evidence was uploaded for 87 per cent (1.49 crore) saplings. Also, out of the 59 government agencies involved in the drive as many as 38 had not submitted survival reports about the saplings.\n",
      "This year, the targets set by the forest department were comparatively modest. For example, Pune Circle â€” which comprises three divisions in Pune and Solapur district â€” had planned to plant 17 lakh saplings on forest land. However, it may not meet the target due to unavailability of funds. Last year Pune Circle planted 70 lakh saplings on forest land.\n",
      "In Pune Division â€” which comprises six talukas namely Maval, Mulshi, Daund, Indapur, Baramati and Havveli â€” preparations were done for plantation of about 4 lakh trees with special emphasis on teakwood.\n",
      "The National Forest Policy aims and emphasizes at maintaining 33% of the countryâ€™s geographical area under forest and green cover. In view of this and as a part of the 50 crore plantation programme within Maharashtra, the Maharashtra Forest Department aims to plant 4 crore saplings all over the State betweenÂ 1st to July 7th, 2017Â to celebrateÂ â€˜Vanmohotsavâ€™.\n",
      "Â \n",
      "The plantation programme, which was announced in 2016 with the aim of plantingÂ 2 crore trees on 1stÂ July 2016 was a resounding success with the final total reported figure ofÂ 2.82 crore saplings plantedÂ on a single day. To maintain consistency of this platform without affecting its momentum, the Forest Department has set the target of plantation of 4 crore, 13 crore and 33 crore saplings under the mission of 50 crore plantation which shall be accomplished in the three consecutive years viz. 2017, 2018 and 2019.\n",
      "Â \n",
      "TheÂ 4 croreÂ saplings for the year 2017 will be planted during the Vanmohotsav,Â July 1st to July 7thÂ in a state-wide driveÂ with the involvement of 33 government departments along with Students of Schools and Colleges, NSS, NCC, CSR, NGOs, Railways, National Highways, Defence, NABARD and other stakeholders of Society.\n",
      "Â \n",
      "In a first of its kind, aÂ 24-hourÂ toll freeÂ helpline number 1926Â called â€˜Hello Forestâ€™ has been set up to provide information regarding plantation, protection and for mass awareness. The Forest Department has created aÂ mobile application called â€˜My Plantsâ€™Â to record details of the plantation such as numbers, species and location into the computer system of the Forest Department. All volunteers at individual, collective and organizational level should download and use this application to record their tree plantation work through the application, which will be operational from 1stÂ July to 7thÂ July.Â \n",
      "Â \n",
      "In consonance of the public participation, the Maharashtra Forest Department has initiated the â€˜Maharashtra Harit Senaâ€™/ â€˜Green Armyâ€™ which is a body of dedicated volunteers to participate in the plantation, protection, and activities in forest, wildlife, and related sectors around the year. Individuals and organisations interested in volunteering can register on the Green Army websiteÂ www.greenarmy.mahaforest.gov.in\n",
      "Â \n",
      "An integrated drive has been set in place to ensure seamless and successful participation from all stakeholders of society, especially the public.\n",
      "\n",
      "\n"
     ]
    }
   ],
   "source": [
    "with open('doc_01.txt','r') as file:\n",
    "  text = file.read()\n",
    "with open('doc_02.txt','r')as file:\n",
    "  text1 = file.read()\n",
    "  \n",
    "print('The given sentences are: \\n', text)\n"
   ]
  },
  {
   "cell_type": "markdown",
   "id": "bd46e8d2",
   "metadata": {},
   "source": [
    "🔹 Sentence Tokenization"
   ]
  },
  {
   "cell_type": "code",
   "execution_count": 182,
   "id": "452ffe53",
   "metadata": {},
   "outputs": [
    {
     "name": "stdout",
     "output_type": "stream",
     "text": [
      "\n",
      " Sentence Tokenization: \n",
      " ['Between 2016 and 2019, the state forest department under theÂ\\xa0BJPÂ\\xa0government had launched â€˜Green Maharashtraâ€™ drive with an aim to plant 50 crore trees across the state in the four-year period.', 'In October 2019, the government had claimed it had surpassed the target by planting 33 crore trees in July-September 2019.Â\\xa0The Indian ExpressÂ\\xa0had found that non-forest agencies â€” such as gram panchayats â€” which were tasked with planting trees had not uploaded the mandatory audio-visual proof of the tree plantation drives on the specially created portal.', 'In Pune Revenue Division, it was claimed the gram panchayats planted 1.7 crore saplings; however, no evidence was uploaded for 87 per cent (1.49 crore) saplings.', 'Also, out of the 59 government agencies involved in the drive as many as 38 had not submitted survival reports about the saplings.', 'This year, the targets set by the forest department were comparatively modest.', 'For example, Pune Circle â€” which comprises three divisions in Pune and Solapur district â€” had planned to plant 17 lakh saplings on forest land.', 'However, it may not meet the target due to unavailability of funds.', 'Last year Pune Circle planted 70 lakh saplings on forest land.', 'In Pune Division â€” which comprises six talukas namely Maval, Mulshi, Daund, Indapur, Baramati and Havveli â€” preparations were done for plantation of about 4 lakh trees with special emphasis on teakwood.', 'The National Forest Policy aims and emphasizes at maintaining 33% of the countryâ€™s geographical area under forest and green cover.', 'In view of this and as a part of the 50 crore plantation programme within Maharashtra, the Maharashtra Forest Department aims to plant 4 crore saplings all over the State betweenÂ\\xa01st to July 7th, 2017Â\\xa0to celebrateÂ\\xa0â€˜Vanmohotsavâ€™.', 'Â\\xa0\\nThe plantation programme, which was announced in 2016 with the aim of plantingÂ\\xa02 crore trees on 1stÂ\\xa0July 2016 was a resounding success with the final total reported figure ofÂ\\xa02.82 crore saplings plantedÂ\\xa0on a single day.', 'To maintain consistency of this platform without affecting its momentum, the Forest Department has set the target of plantation of 4 crore, 13 crore and 33 crore saplings under the mission of 50 crore plantation which shall be accomplished in the three consecutive years viz.', '2017, 2018 and 2019.', 'Â\\xa0\\nTheÂ\\xa04 croreÂ\\xa0saplings for the year 2017 will be planted during the Vanmohotsav,Â\\xa0July 1st to July 7thÂ\\xa0in a state-wide driveÂ\\xa0with the involvement of 33 government departments along with Students of Schools and Colleges, NSS, NCC, CSR, NGOs, Railways, National Highways, Defence, NABARD and other stakeholders of Society.', 'Â\\xa0\\nIn a first of its kind, aÂ\\xa024-hourÂ\\xa0toll freeÂ\\xa0helpline number 1926Â\\xa0called â€˜Hello Forestâ€™ has been set up to provide information regarding plantation, protection and for mass awareness.', 'The Forest Department has created aÂ\\xa0mobile application called â€˜My Plantsâ€™Â\\xa0to record details of the plantation such as numbers, species and location into the computer system of the Forest Department.', 'All volunteers at individual, collective and organizational level should download and use this application to record their tree plantation work through the application, which will be operational from 1stÂ\\xa0July to 7thÂ\\xa0July.Â\\xa0\\nÂ\\xa0\\nIn consonance of the public participation, the Maharashtra Forest Department has initiated the â€˜Maharashtra Harit Senaâ€™/ â€˜Green Armyâ€™ which is a body of dedicated volunteers to participate in the plantation, protection, and activities in forest, wildlife, and related sectors around the year.', 'Individuals and organisations interested in volunteering can register on the Green Army websiteÂ\\xa0www.greenarmy.mahaforest.gov.in\\nÂ\\xa0\\nAn integrated drive has been set in place to ensure seamless and successful participation from all stakeholders of society, especially the public.']\n"
     ]
    }
   ],
   "source": [
    "from nltk.tokenize import sent_tokenize\n",
    "tokenized_text = sent_tokenize(text)\n",
    "print(\"\\n Sentence Tokenization: \\n\", tokenized_text)\n"
   ]
  },
  {
   "cell_type": "markdown",
   "id": "82c4dfb9",
   "metadata": {},
   "source": [
    "🔹 Word Tokenization"
   ]
  },
  {
   "cell_type": "code",
   "execution_count": 183,
   "id": "90d58346",
   "metadata": {},
   "outputs": [
    {
     "name": "stdout",
     "output_type": "stream",
     "text": [
      "\n",
      "Word Tokeniztion: \n",
      " ['Between', '2016', 'and', '2019', ',', 'the', 'state', 'forest', 'department', 'under', 'theÂ', 'BJPÂ', 'government', 'had', 'launched', 'â€˜Green', 'Maharashtraâ€™', 'drive', 'with', 'an', 'aim', 'to', 'plant', '50', 'crore', 'trees', 'across', 'the', 'state', 'in', 'the', 'four-year', 'period', '.', 'In', 'October', '2019', ',', 'the', 'government', 'had', 'claimed', 'it', 'had', 'surpassed', 'the', 'target', 'by', 'planting', '33', 'crore', 'trees', 'in', 'July-September', '2019.Â', 'The', 'Indian', 'ExpressÂ', 'had', 'found', 'that', 'non-forest', 'agencies', 'â€', '”', 'such', 'as', 'gram', 'panchayats', 'â€', '”', 'which', 'were', 'tasked', 'with', 'planting', 'trees', 'had', 'not', 'uploaded', 'the', 'mandatory', 'audio-visual', 'proof', 'of', 'the', 'tree', 'plantation', 'drives', 'on', 'the', 'specially', 'created', 'portal', '.', 'In', 'Pune', 'Revenue', 'Division', ',', 'it', 'was', 'claimed', 'the', 'gram', 'panchayats', 'planted', '1.7', 'crore', 'saplings', ';', 'however', ',', 'no', 'evidence', 'was', 'uploaded', 'for', '87', 'per', 'cent', '(', '1.49', 'crore', ')', 'saplings', '.', 'Also', ',', 'out', 'of', 'the', '59', 'government', 'agencies', 'involved', 'in', 'the', 'drive', 'as', 'many', 'as', '38', 'had', 'not', 'submitted', 'survival', 'reports', 'about', 'the', 'saplings', '.', 'This', 'year', ',', 'the', 'targets', 'set', 'by', 'the', 'forest', 'department', 'were', 'comparatively', 'modest', '.', 'For', 'example', ',', 'Pune', 'Circle', 'â€', '”', 'which', 'comprises', 'three', 'divisions', 'in', 'Pune', 'and', 'Solapur', 'district', 'â€', '”', 'had', 'planned', 'to', 'plant', '17', 'lakh', 'saplings', 'on', 'forest', 'land', '.', 'However', ',', 'it', 'may', 'not', 'meet', 'the', 'target', 'due', 'to', 'unavailability', 'of', 'funds', '.', 'Last', 'year', 'Pune', 'Circle', 'planted', '70', 'lakh', 'saplings', 'on', 'forest', 'land', '.', 'In', 'Pune', 'Division', 'â€', '”', 'which', 'comprises', 'six', 'talukas', 'namely', 'Maval', ',', 'Mulshi', ',', 'Daund', ',', 'Indapur', ',', 'Baramati', 'and', 'Havveli', 'â€', '”', 'preparations', 'were', 'done', 'for', 'plantation', 'of', 'about', '4', 'lakh', 'trees', 'with', 'special', 'emphasis', 'on', 'teakwood', '.', 'The', 'National', 'Forest', 'Policy', 'aims', 'and', 'emphasizes', 'at', 'maintaining', '33', '%', 'of', 'the', 'countryâ€™s', 'geographical', 'area', 'under', 'forest', 'and', 'green', 'cover', '.', 'In', 'view', 'of', 'this', 'and', 'as', 'a', 'part', 'of', 'the', '50', 'crore', 'plantation', 'programme', 'within', 'Maharashtra', ',', 'the', 'Maharashtra', 'Forest', 'Department', 'aims', 'to', 'plant', '4', 'crore', 'saplings', 'all', 'over', 'the', 'State', 'betweenÂ', '1st', 'to', 'July', '7th', ',', '2017Â', 'to', 'celebrateÂ', 'â€˜Vanmohotsavâ€™', '.', 'Â', 'The', 'plantation', 'programme', ',', 'which', 'was', 'announced', 'in', '2016', 'with', 'the', 'aim', 'of', 'plantingÂ', '2', 'crore', 'trees', 'on', '1stÂ', 'July', '2016', 'was', 'a', 'resounding', 'success', 'with', 'the', 'final', 'total', 'reported', 'figure', 'ofÂ', '2.82', 'crore', 'saplings', 'plantedÂ', 'on', 'a', 'single', 'day', '.', 'To', 'maintain', 'consistency', 'of', 'this', 'platform', 'without', 'affecting', 'its', 'momentum', ',', 'the', 'Forest', 'Department', 'has', 'set', 'the', 'target', 'of', 'plantation', 'of', '4', 'crore', ',', '13', 'crore', 'and', '33', 'crore', 'saplings', 'under', 'the', 'mission', 'of', '50', 'crore', 'plantation', 'which', 'shall', 'be', 'accomplished', 'in', 'the', 'three', 'consecutive', 'years', 'viz', '.', '2017', ',', '2018', 'and', '2019', '.', 'Â', 'TheÂ', '4', 'croreÂ', 'saplings', 'for', 'the', 'year', '2017', 'will', 'be', 'planted', 'during', 'the', 'Vanmohotsav', ',', 'Â', 'July', '1st', 'to', 'July', '7thÂ', 'in', 'a', 'state-wide', 'driveÂ', 'with', 'the', 'involvement', 'of', '33', 'government', 'departments', 'along', 'with', 'Students', 'of', 'Schools', 'and', 'Colleges', ',', 'NSS', ',', 'NCC', ',', 'CSR', ',', 'NGOs', ',', 'Railways', ',', 'National', 'Highways', ',', 'Defence', ',', 'NABARD', 'and', 'other', 'stakeholders', 'of', 'Society', '.', 'Â', 'In', 'a', 'first', 'of', 'its', 'kind', ',', 'aÂ', '24-hourÂ', 'toll', 'freeÂ', 'helpline', 'number', '1926Â', 'called', 'â€˜Hello', 'Forestâ€™', 'has', 'been', 'set', 'up', 'to', 'provide', 'information', 'regarding', 'plantation', ',', 'protection', 'and', 'for', 'mass', 'awareness', '.', 'The', 'Forest', 'Department', 'has', 'created', 'aÂ', 'mobile', 'application', 'called', 'â€˜My', 'Plantsâ€™Â', 'to', 'record', 'details', 'of', 'the', 'plantation', 'such', 'as', 'numbers', ',', 'species', 'and', 'location', 'into', 'the', 'computer', 'system', 'of', 'the', 'Forest', 'Department', '.', 'All', 'volunteers', 'at', 'individual', ',', 'collective', 'and', 'organizational', 'level', 'should', 'download', 'and', 'use', 'this', 'application', 'to', 'record', 'their', 'tree', 'plantation', 'work', 'through', 'the', 'application', ',', 'which', 'will', 'be', 'operational', 'from', '1stÂ', 'July', 'to', '7thÂ', 'July.Â', 'Â', 'In', 'consonance', 'of', 'the', 'public', 'participation', ',', 'the', 'Maharashtra', 'Forest', 'Department', 'has', 'initiated', 'the', 'â€˜Maharashtra', 'Harit', 'Senaâ€™/', 'â€˜Green', 'Armyâ€™', 'which', 'is', 'a', 'body', 'of', 'dedicated', 'volunteers', 'to', 'participate', 'in', 'the', 'plantation', ',', 'protection', ',', 'and', 'activities', 'in', 'forest', ',', 'wildlife', ',', 'and', 'related', 'sectors', 'around', 'the', 'year', '.', 'Individuals', 'and', 'organisations', 'interested', 'in', 'volunteering', 'can', 'register', 'on', 'the', 'Green', 'Army', 'websiteÂ', 'www.greenarmy.mahaforest.gov.in', 'Â', 'An', 'integrated', 'drive', 'has', 'been', 'set', 'in', 'place', 'to', 'ensure', 'seamless', 'and', 'successful', 'participation', 'from', 'all', 'stakeholders', 'of', 'society', ',', 'especially', 'the', 'public', '.']\n"
     ]
    }
   ],
   "source": [
    "from nltk.tokenize import word_tokenize\n",
    "tokenized_word = word_tokenize(text)\n",
    "print('\\nWord Tokeniztion: \\n', tokenized_word)\n"
   ]
  },
  {
   "cell_type": "markdown",
   "id": "9055d9f0",
   "metadata": {},
   "source": [
    "🔹 Stop Word Removal"
   ]
  },
  {
   "cell_type": "code",
   "execution_count": 184,
   "id": "4cddfec4",
   "metadata": {},
   "outputs": [
    {
     "name": "stdout",
     "output_type": "stream",
     "text": [
      "Tokenized Sentence: ['between', 'and', 'the', 'state', 'forest', 'department', 'under', 'the', 'bjp', 'government', 'had', 'launched', 'green', 'maharashtra', 'drive', 'with', 'an', 'aim', 'to', 'plant', 'crore', 'trees', 'across', 'the', 'state', 'in', 'the', 'four', 'year', 'period', 'in', 'october', 'the', 'government', 'had', 'claimed', 'it', 'had', 'surpassed', 'the', 'target', 'by', 'planting', 'crore', 'trees', 'in', 'july', 'september', 'the', 'indian', 'express', 'had', 'found', 'that', 'non', 'forest', 'agencies', 'such', 'as', 'gram', 'panchayats', 'which', 'were', 'tasked', 'with', 'planting', 'trees', 'had', 'not', 'uploaded', 'the', 'mandatory', 'audio', 'visual', 'proof', 'of', 'the', 'tree', 'plantation', 'drives', 'on', 'the', 'specially', 'created', 'portal', 'in', 'pune', 'revenue', 'division', 'it', 'was', 'claimed', 'the', 'gram', 'panchayats', 'planted', 'crore', 'saplings', 'however', 'no', 'evidence', 'was', 'uploaded', 'for', 'per', 'cent', 'crore', 'saplings', 'also', 'out', 'of', 'the', 'government', 'agencies', 'involved', 'in', 'the', 'drive', 'as', 'many', 'as', 'had', 'not', 'submitted', 'survival', 'reports', 'about', 'the', 'saplings', 'this', 'year', 'the', 'targets', 'set', 'by', 'the', 'forest', 'department', 'were', 'comparatively', 'modest', 'for', 'example', 'pune', 'circle', 'which', 'comprises', 'three', 'divisions', 'in', 'pune', 'and', 'solapur', 'district', 'had', 'planned', 'to', 'plant', 'lakh', 'saplings', 'on', 'forest', 'land', 'however', 'it', 'may', 'not', 'meet', 'the', 'target', 'due', 'to', 'unavailability', 'of', 'funds', 'last', 'year', 'pune', 'circle', 'planted', 'lakh', 'saplings', 'on', 'forest', 'land', 'in', 'pune', 'division', 'which', 'comprises', 'six', 'talukas', 'namely', 'maval', 'mulshi', 'daund', 'indapur', 'baramati', 'and', 'havveli', 'preparations', 'were', 'done', 'for', 'plantation', 'of', 'about', 'lakh', 'trees', 'with', 'special', 'emphasis', 'on', 'teakwood', 'the', 'national', 'forest', 'policy', 'aims', 'and', 'emphasizes', 'at', 'maintaining', 'of', 'the', 'country', 's', 'geographical', 'area', 'under', 'forest', 'and', 'green', 'cover', 'in', 'view', 'of', 'this', 'and', 'as', 'a', 'part', 'of', 'the', 'crore', 'plantation', 'programme', 'within', 'maharashtra', 'the', 'maharashtra', 'forest', 'department', 'aims', 'to', 'plant', 'crore', 'saplings', 'all', 'over', 'the', 'state', 'between', 'st', 'to', 'july', 'th', 'to', 'celebrate', 'vanmohotsav', 'the', 'plantation', 'programme', 'which', 'was', 'announced', 'in', 'with', 'the', 'aim', 'of', 'planting', 'crore', 'trees', 'on', 'st', 'july', 'was', 'a', 'resounding', 'success', 'with', 'the', 'final', 'total', 'reported', 'figure', 'of', 'crore', 'saplings', 'planted', 'on', 'a', 'single', 'day', 'to', 'maintain', 'consistency', 'of', 'this', 'platform', 'without', 'affecting', 'its', 'momentum', 'the', 'forest', 'department', 'has', 'set', 'the', 'target', 'of', 'plantation', 'of', 'crore', 'crore', 'and', 'crore', 'saplings', 'under', 'the', 'mission', 'of', 'crore', 'plantation', 'which', 'shall', 'be', 'accomplished', 'in', 'the', 'three', 'consecutive', 'years', 'viz', 'and', 'the', 'crore', 'saplings', 'for', 'the', 'year', 'will', 'be', 'planted', 'during', 'the', 'vanmohotsav', 'july', 'st', 'to', 'july', 'th', 'in', 'a', 'state', 'wide', 'drive', 'with', 'the', 'involvement', 'of', 'government', 'departments', 'along', 'with', 'students', 'of', 'schools', 'and', 'colleges', 'nss', 'ncc', 'csr', 'ngos', 'railways', 'national', 'highways', 'defence', 'nabard', 'and', 'other', 'stakeholders', 'of', 'society', 'in', 'a', 'first', 'of', 'its', 'kind', 'a', 'hour', 'toll', 'free', 'helpline', 'number', 'called', 'hello', 'forest', 'has', 'been', 'set', 'up', 'to', 'provide', 'information', 'regarding', 'plantation', 'protection', 'and', 'for', 'mass', 'awareness', 'the', 'forest', 'department', 'has', 'created', 'a', 'mobile', 'application', 'called', 'my', 'plants', 'to', 'record', 'details', 'of', 'the', 'plantation', 'such', 'as', 'numbers', 'species', 'and', 'location', 'into', 'the', 'computer', 'system', 'of', 'the', 'forest', 'department', 'all', 'volunteers', 'at', 'individual', 'collective', 'and', 'organizational', 'level', 'should', 'download', 'and', 'use', 'this', 'application', 'to', 'record', 'their', 'tree', 'plantation', 'work', 'through', 'the', 'application', 'which', 'will', 'be', 'operational', 'from', 'st', 'july', 'to', 'th', 'july', 'in', 'consonance', 'of', 'the', 'public', 'participation', 'the', 'maharashtra', 'forest', 'department', 'has', 'initiated', 'the', 'maharashtra', 'harit', 'sena', 'green', 'army', 'which', 'is', 'a', 'body', 'of', 'dedicated', 'volunteers', 'to', 'participate', 'in', 'the', 'plantation', 'protection', 'and', 'activities', 'in', 'forest', 'wildlife', 'and', 'related', 'sectors', 'around', 'the', 'year', 'individuals', 'and', 'organisations', 'interested', 'in', 'volunteering', 'can', 'register', 'on', 'the', 'green', 'army', 'website', 'www', 'greenarmy', 'mahaforest', 'gov', 'in', 'an', 'integrated', 'drive', 'has', 'been', 'set', 'in', 'place', 'to', 'ensure', 'seamless', 'and', 'successful', 'participation', 'from', 'all', 'stakeholders', 'of', 'society', 'especially', 'the', 'public']\n",
      "Filterd Sentence: ['state', 'forest', 'department', 'bjp', 'government', 'launched', 'green', 'maharashtra', 'drive', 'aim', 'plant', 'crore', 'trees', 'across', 'state', 'four', 'year', 'period', 'october', 'government', 'claimed', 'surpassed', 'target', 'planting', 'crore', 'trees', 'july', 'september', 'indian', 'express', 'found', 'non', 'forest', 'agencies', 'gram', 'panchayats', 'tasked', 'planting', 'trees', 'uploaded', 'mandatory', 'audio', 'visual', 'proof', 'tree', 'plantation', 'drives', 'specially', 'created', 'portal', 'pune', 'revenue', 'division', 'claimed', 'gram', 'panchayats', 'planted', 'crore', 'saplings', 'however', 'evidence', 'uploaded', 'per', 'cent', 'crore', 'saplings', 'also', 'government', 'agencies', 'involved', 'drive', 'many', 'submitted', 'survival', 'reports', 'saplings', 'year', 'targets', 'set', 'forest', 'department', 'comparatively', 'modest', 'example', 'pune', 'circle', 'comprises', 'three', 'divisions', 'pune', 'solapur', 'district', 'planned', 'plant', 'lakh', 'saplings', 'forest', 'land', 'however', 'may', 'meet', 'target', 'due', 'unavailability', 'funds', 'last', 'year', 'pune', 'circle', 'planted', 'lakh', 'saplings', 'forest', 'land', 'pune', 'division', 'comprises', 'six', 'talukas', 'namely', 'maval', 'mulshi', 'daund', 'indapur', 'baramati', 'havveli', 'preparations', 'done', 'plantation', 'lakh', 'trees', 'special', 'emphasis', 'teakwood', 'national', 'forest', 'policy', 'aims', 'emphasizes', 'maintaining', 'country', 'geographical', 'area', 'forest', 'green', 'cover', 'view', 'part', 'crore', 'plantation', 'programme', 'within', 'maharashtra', 'maharashtra', 'forest', 'department', 'aims', 'plant', 'crore', 'saplings', 'state', 'st', 'july', 'th', 'celebrate', 'vanmohotsav', 'plantation', 'programme', 'announced', 'aim', 'planting', 'crore', 'trees', 'st', 'july', 'resounding', 'success', 'final', 'total', 'reported', 'figure', 'crore', 'saplings', 'planted', 'single', 'day', 'maintain', 'consistency', 'platform', 'without', 'affecting', 'momentum', 'forest', 'department', 'set', 'target', 'plantation', 'crore', 'crore', 'crore', 'saplings', 'mission', 'crore', 'plantation', 'shall', 'accomplished', 'three', 'consecutive', 'years', 'viz', 'crore', 'saplings', 'year', 'planted', 'vanmohotsav', 'july', 'st', 'july', 'th', 'state', 'wide', 'drive', 'involvement', 'government', 'departments', 'along', 'students', 'schools', 'colleges', 'nss', 'ncc', 'csr', 'ngos', 'railways', 'national', 'highways', 'defence', 'nabard', 'stakeholders', 'society', 'first', 'kind', 'hour', 'toll', 'free', 'helpline', 'number', 'called', 'hello', 'forest', 'set', 'provide', 'information', 'regarding', 'plantation', 'protection', 'mass', 'awareness', 'forest', 'department', 'created', 'mobile', 'application', 'called', 'plants', 'record', 'details', 'plantation', 'numbers', 'species', 'location', 'computer', 'system', 'forest', 'department', 'volunteers', 'individual', 'collective', 'organizational', 'level', 'download', 'use', 'application', 'record', 'tree', 'plantation', 'work', 'application', 'operational', 'st', 'july', 'th', 'july', 'consonance', 'public', 'participation', 'maharashtra', 'forest', 'department', 'initiated', 'maharashtra', 'harit', 'sena', 'green', 'army', 'body', 'dedicated', 'volunteers', 'participate', 'plantation', 'protection', 'activities', 'forest', 'wildlife', 'related', 'sectors', 'around', 'year', 'individuals', 'organisations', 'interested', 'volunteering', 'register', 'green', 'army', 'website', 'www', 'greenarmy', 'mahaforest', 'gov', 'integrated', 'drive', 'set', 'place', 'ensure', 'seamless', 'successful', 'participation', 'stakeholders', 'society', 'especially', 'public']\n"
     ]
    }
   ],
   "source": [
    "from nltk.corpus import stopwords\n",
    "stop_words = set(stopwords.words(\"english\"))\n",
    "\n",
    "# print(\"Text file : \",text)\n",
    "text = re.sub('[^a-zA-Z]', ' ', text)\n",
    "# print(\"Text file : \",text)\n",
    "\n",
    "tokens = word_tokenize(text.lower())\n",
    "filtered_text = []\n",
    "\n",
    "for w in tokens:\n",
    "    if w not in stop_words:\n",
    "        filtered_text.append(w)\n",
    "\n",
    "\n",
    "\n",
    "print (\"Tokenized Sentence:\", tokens)\n",
    "print (\"Filterd Sentence:\", filtered_text)\n"
   ]
  },
  {
   "cell_type": "markdown",
   "id": "02c1bfe9",
   "metadata": {},
   "source": [
    "🔹 Stemming"
   ]
  },
  {
   "cell_type": "code",
   "execution_count": 185,
   "id": "0a9c92d6",
   "metadata": {},
   "outputs": [
    {
     "name": "stdout",
     "output_type": "stream",
     "text": [
      "Stemming for  wait :  wait\n",
      "Stemming for  waiting :  wait\n",
      "Stemming for  waited :  wait\n",
      "Stemming for  waits :  wait\n"
     ]
    }
   ],
   "source": [
    "from nltk.stem import PorterStemmer\n",
    "e_words = [\"wait\", \"waiting\", \"waited\", \"waits\"]\n",
    "ps = PorterStemmer()\n",
    "for w in e_words:\n",
    "    rootWord = ps.stem(w)\n",
    "    print('Stemming for ', w, ': ', rootWord)\n"
   ]
  },
  {
   "cell_type": "markdown",
   "id": "393f184a",
   "metadata": {},
   "source": [
    "🔹 Lemmatization"
   ]
  },
  {
   "cell_type": "code",
   "execution_count": 186,
   "id": "f15c5ec7",
   "metadata": {},
   "outputs": [
    {
     "name": "stdout",
     "output_type": "stream",
     "text": [
      "Lemma for studies is study\n",
      "Lemma for studying is studying\n",
      "Lemma for cries is cry\n",
      "Lemma for cry is cry\n"
     ]
    }
   ],
   "source": [
    "from nltk.stem import WordNetLemmatizer\n",
    "wordnet_lemmatizer = WordNetLemmatizer()\n",
    "\n",
    "text = \"studies studying cries cry\"\n",
    "tokenization = nltk.word_tokenize(text)\n",
    "\n",
    "for w in tokenization:\n",
    "    print(\"Lemma for {} is {}\".format(w, wordnet_lemmatizer.lemmatize(w)))\n"
   ]
  },
  {
   "cell_type": "code",
   "execution_count": 187,
   "id": "e8288501",
   "metadata": {},
   "outputs": [],
   "source": [
    "def computeTF(wordDict, bagOfWords):\n",
    "    tfDict = {}\n",
    "    bagOfWordsCount = len(bagOfWords)\n",
    "    for word, count in wordDict.items():\n",
    "        tfDict[word] = count / float(bagOfWordsCount)\n",
    "    return tfDict\n"
   ]
  },
  {
   "cell_type": "code",
   "execution_count": 188,
   "id": "7d2e239e",
   "metadata": {},
   "outputs": [],
   "source": [
    "def computeIDF(documents):\n",
    "    import math\n",
    "    N = len(documents)  # Total number of documents\n",
    "    idfDict = dict.fromkeys(documents[0].keys(), 0)\n",
    "    \n",
    "    for document in documents:\n",
    "        for word, val in document.items():\n",
    "            if val > 0:\n",
    "                idfDict[word] += 1\n",
    "    \n",
    "    for word, val in idfDict.items():\n",
    "        if val > 0:\n",
    "            idfDict[word] = math.log(N / float(val))\n",
    "        else:\n",
    "            idfDict[word] = 0\n",
    "    return idfDict\n"
   ]
  },
  {
   "cell_type": "code",
   "execution_count": 189,
   "id": "ecbc1fb6",
   "metadata": {},
   "outputs": [],
   "source": [
    "def computeTFIDF(tfBagOfWords, idfs):\n",
    "    tfidf = {}\n",
    "    for word, val in tfBagOfWords.items():\n",
    "        tfidf[word] = val * idfs[word]\n",
    "    return tfidf\n"
   ]
  },
  {
   "cell_type": "markdown",
   "id": "ec12ef47",
   "metadata": {},
   "source": [
    "🔹 TF-IDF from Scratch"
   ]
  },
  {
   "cell_type": "code",
   "execution_count": 191,
   "id": "04e24032",
   "metadata": {},
   "outputs": [
    {
     "name": "stdout",
     "output_type": "stream",
     "text": [
      "---------------- Term Frequency ----------------------\n",
      "    Mars   the    Sun  Jupiter  fourth  planet     is  largest   from\n",
      "0  0.000  0.20  0.000      0.2   0.000   0.200  0.200      0.2  0.000\n",
      "1  0.125  0.25  0.125      0.0   0.125   0.125  0.125      0.0  0.125\n",
      "---------------- Inverse Document Frequency ----------------------\n",
      "{'Mars': 0.6931471805599453, 'the': 0.0, 'Sun': 0.6931471805599453, 'Jupiter': 0.6931471805599453, 'fourth': 0.6931471805599453, 'planet': 0.0, 'is': 0.0, 'largest': 0.6931471805599453, 'from': 0.6931471805599453}\n",
      "------------------- TF-IDF --------------------------------------\n",
      "       Mars  the       Sun   Jupiter    fourth  planet   is   largest  \\\n",
      "0  0.000000  0.0  0.000000  0.138629  0.000000     0.0  0.0  0.138629   \n",
      "1  0.086643  0.0  0.086643  0.000000  0.086643     0.0  0.0  0.000000   \n",
      "\n",
      "       from  \n",
      "0  0.000000  \n",
      "1  0.086643  \n"
     ]
    }
   ],
   "source": [
    "#------------------------------------------------------------------------------------------------------------------------------\n",
    "# Algorithm to Create Representation of Documents by Calculating TF-IDF\n",
    "#------------------------------------------------------------------------------------------------------------------------------\n",
    "\n",
    "# Step 1: Import the necessary libraries.\n",
    "import pandas as pd\n",
    "from sklearn.feature_extraction.text import TfidfVectorizer\n",
    "\n",
    "# Step 2: Initialize the Documents.\n",
    "text = 'Jupiter is the largest planet'\n",
    "text1 = 'Mars is the fourth planet from the Sun'\n",
    "\n",
    "# Step 3: Create Bag of Words (BoW) for Document A and B using word tokenization.\n",
    "bagOfWordsA = text.split(' ')\n",
    "bagOfWordsB = text1.split(' ')\n",
    "\n",
    "# Step 4: Create a collection of unique words from Document A and B.\n",
    "uniqueWords = set(bagOfWordsA).union(set(bagOfWordsB))\n",
    "\n",
    "# Step 5: Create a dictionary of word occurrences for each document in the corpus.\n",
    "numOfWordsA = dict.fromkeys(uniqueWords, 0)\n",
    "for word in bagOfWordsA:\n",
    "    numOfWordsA[word] += 1  # How many times each word is repeated in document A\n",
    "\n",
    "numOfWordsB = dict.fromkeys(uniqueWords, 0)\n",
    "for word in bagOfWordsB:\n",
    "    numOfWordsB[word] += 1  # How many times each word is repeated in document B\n",
    "\n",
    "# Step 6: Compute the Term Frequency (TF) for each document.\n",
    "tfA = computeTF(numOfWordsA, bagOfWordsA)\n",
    "tfB = computeTF(numOfWordsB, bagOfWordsB)\n",
    "\n",
    "# Step 7: Display the Term Frequencies.\n",
    "print('---------------- Term Frequency ----------------------')\n",
    "df = pd.DataFrame([tfA, tfB])\n",
    "print(df)\n",
    "\n",
    "# Step 8: Compute the Inverse Document Frequency (IDF).\n",
    "idfs = computeIDF([numOfWordsA, numOfWordsB])\n",
    "print('---------------- Inverse Document Frequency ----------------------')\n",
    "print(idfs)\n",
    "\n",
    "# Step 9: Compute the TF-IDF scores.\n",
    "tfidfA = computeTFIDF(tfA, idfs)\n",
    "tfidfB = computeTFIDF(tfB, idfs)\n",
    "\n",
    "# Step 10: Display the TF-IDF scores.\n",
    "print('------------------- TF-IDF --------------------------------------')\n",
    "df = pd.DataFrame([tfidfA, tfidfB])\n",
    "print(df)\n"
   ]
  },
  {
   "cell_type": "markdown",
   "id": "6a822adc",
   "metadata": {},
   "source": []
  }
 ],
 "metadata": {
  "kernelspec": {
   "display_name": "Python 3",
   "language": "python",
   "name": "python3"
  },
  "language_info": {
   "codemirror_mode": {
    "name": "ipython",
    "version": 3
   },
   "file_extension": ".py",
   "mimetype": "text/x-python",
   "name": "python",
   "nbconvert_exporter": "python",
   "pygments_lexer": "ipython3",
   "version": "3.12.0"
  }
 },
 "nbformat": 4,
 "nbformat_minor": 5
}
