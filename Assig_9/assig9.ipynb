{
 "cells": [
  {
   "cell_type": "code",
   "execution_count": null,
   "id": "ab360d7f",
   "metadata": {},
   "outputs": [],
   "source": [
    "import pandas as pd\n",
    "import seaborn as sns\n",
    "import matplotlib.pyplot as plt"
   ]
  },
  {
   "cell_type": "code",
   "execution_count": null,
   "id": "95f3ef84",
   "metadata": {},
   "outputs": [],
   "source": [
    "df = pd.read_csv('titanic.csv')\n",
    "print(df.head())\n",
    "print(df.sample(5))"
   ]
  },
  {
   "cell_type": "code",
   "execution_count": null,
   "id": "b7ac413a",
   "metadata": {},
   "outputs": [],
   "source": [
    "print(df.dtypes)\n",
    "print(df.size)\n",
    "print(df.shape)\n",
    "print(df.columns)\n",
    "print(df.describe())"
   ]
  },
  {
   "cell_type": "code",
   "execution_count": null,
   "id": "34848385",
   "metadata": {},
   "outputs": [],
   "source": [
    "print(df.isna().sum())"
   ]
  },
  {
   "cell_type": "code",
   "execution_count": null,
   "id": "104425a3",
   "metadata": {},
   "outputs": [],
   "source": [
    "df['Age'].fillna(df['Age'].median(),inplace=True)\n",
    "df['Cabin'].fillna(df['Cabin'].ffill(),inplace=True)\n",
    "df['Cabin'].fillna(df['Cabin'].mode()[0],inplace=True)\n",
    "df['Embarked'].fillna(df['Embarked'].mode()[0],inplace=True)"
   ]
  },
  {
   "cell_type": "code",
   "execution_count": null,
   "id": "897fae0a",
   "metadata": {},
   "outputs": [],
   "source": [
    "df.columns"
   ]
  },
  {
   "cell_type": "code",
   "execution_count": null,
   "id": "84a6d113",
   "metadata": {},
   "outputs": [],
   "source": [
    "df = df.drop('PassengerId',axis=1)\n",
    "df = df.drop('Name',axis=1)\n",
    "df = df.drop('Ticket',axis=1)\n"
   ]
  },
  {
   "cell_type": "code",
   "execution_count": null,
   "id": "cb2eb541",
   "metadata": {},
   "outputs": [],
   "source": [
    "df['Sex'] = df['Sex'].astype('category')\n",
    "df['Sex'] = df['Sex'].cat.codes \n",
    "\n",
    "df['Embarked'] = df['Embarked'].astype('category')\n",
    "df['Embarked'] = df['Embarked'].cat.codes "
   ]
  },
  {
   "cell_type": "code",
   "execution_count": null,
   "id": "a78f49ba",
   "metadata": {},
   "outputs": [],
   "source": [
    "df.sample(5)"
   ]
  },
  {
   "cell_type": "code",
   "execution_count": null,
   "id": "6e7eb934",
   "metadata": {},
   "outputs": [],
   "source": [
    "# from sklearn.preprocessing import MaxAbsScaler\n",
    "# df[['Age','Fare']] = MaxAbsScaler().fit_transform(df[['Age','Fare']])"
   ]
  },
  {
   "cell_type": "code",
   "execution_count": null,
   "id": "5683ba5d",
   "metadata": {},
   "outputs": [],
   "source": [
    "# from sklearn.preprocessing import PowerTransformer\n",
    "# df['Fare'] = PowerTransformer().fit_transform(df['Fare'].values.reshape(-1,1))"
   ]
  },
  {
   "cell_type": "code",
   "execution_count": null,
   "id": "c4c080d4",
   "metadata": {},
   "outputs": [],
   "source": [
    "# One variable (Age and Fare)\n",
    "fig, axes = plt.subplots(1, 2, figsize=(12, 5))\n",
    "sns.boxplot(ax=axes[0],data=df, y='Age')\n",
    "axes[0].set_title('Boxplot of Age')\n",
    "\n",
    "sns.boxplot(data=df, y='Fare', ax=axes[1])\n",
    "axes[1].set_title('Boxplot of Fare')\n",
    "axes[1].set_yscale('log')  # Set log scale for Fare\n",
    "plt.tight_layout()\n",
    "plt.show()"
   ]
  },
  {
   "cell_type": "code",
   "execution_count": null,
   "id": "802ff47a",
   "metadata": {},
   "outputs": [],
   "source": [
    "# Two variables (Age)\n",
    "fig, axes = plt.subplots(1, 3, figsize=(18, 5), sharey=True)\n",
    "sns.boxplot(data=df, x='Sex', y='Age', hue='Sex', ax=axes[0])\n",
    "axes[0].set_title('Age vs Sex')\n",
    "\n",
    "sns.boxplot(data=df, x='Pclass', y='Age', hue='Pclass', ax=axes[1])\n",
    "axes[1].set_title('Age vs Pclass')\n",
    "\n",
    "sns.boxplot(data=df, x='Survived', y='Age', hue='Survived', ax=axes[2])\n",
    "axes[2].set_title('Age vs Survived')\n",
    "\n",
    "plt.tight_layout()\n",
    "plt.show()"
   ]
  },
  {
   "cell_type": "code",
   "execution_count": null,
   "id": "d36ce431",
   "metadata": {},
   "outputs": [],
   "source": [
    "# Two variables (Fare)\n",
    "fig, axes = plt.subplots(1, 3, figsize=(18, 5), sharey=True)\n",
    "sns.boxplot(data=df, x='Sex', y='Fare', hue='Sex', ax=axes[0])\n",
    "axes[0].set_yscale('log')\n",
    "axes[0].set_title('Fare vs Sex (Log Scale)')\n",
    "\n",
    "sns.boxplot(data=df, x='Pclass', y='Fare', hue='Pclass', ax=axes[1])\n",
    "axes[1].set_yscale('log')\n",
    "axes[1].set_title('Fare vs Pclass (Log Scale)')\n",
    "\n",
    "sns.boxplot(data=df, x='Survived', y='Fare', hue='Survived', ax=axes[2])\n",
    "axes[2].set_yscale('log')\n",
    "axes[2].set_title('Fare vs Survived (Log Scale)')\n",
    "\n",
    "plt.tight_layout()\n",
    "plt.show()"
   ]
  },
  {
   "cell_type": "code",
   "execution_count": null,
   "id": "0a6e43da",
   "metadata": {},
   "outputs": [],
   "source": [
    "# Three variables (Age with Survived)\n",
    "fig, axes = plt.subplots(1, 2, figsize=(14, 5), sharey=True)\n",
    "sns.boxplot(data=df, x='Sex', y='Age', hue='Survived', ax=axes[0])\n",
    "axes[0].set_title('Age vs Sex vs Survived')\n",
    "\n",
    "sns.boxplot(data=df, x='Pclass', y='Age', hue='Survived', ax=axes[1])\n",
    "axes[1].set_title('Age vs Pclass vs Survived')\n",
    "\n",
    "plt.tight_layout()\n",
    "plt.show()"
   ]
  },
  {
   "cell_type": "code",
   "execution_count": null,
   "id": "8dd34251",
   "metadata": {},
   "outputs": [],
   "source": [
    "# Three variables (Fare with Survived)\n",
    "fig, axes = plt.subplots(1, 2, figsize=(14, 5), sharey=True)\n",
    "sns.boxplot(data=df, x='Sex', y='Fare', hue='Survived', ax=axes[0])\n",
    "axes[0].set_yscale('log')\n",
    "axes[0].set_title('Fare vs Sex vs Survived (Log Scale)')\n",
    "\n",
    "sns.boxplot(data=df, x='Pclass', y='Fare', hue='Survived', ax=axes[1])\n",
    "axes[1].set_yscale('log')\n",
    "axes[1].set_title('Fare vs Pclass vs Survived (Log Scale)')\n",
    "\n",
    "plt.tight_layout()\n",
    "plt.show()"
   ]
  },
  {
   "cell_type": "code",
   "execution_count": null,
   "id": "9b6ee3b4",
   "metadata": {},
   "outputs": [],
   "source": [
    "import numpy as np  # Make sure to import numpy\n",
    "\n",
    "def removeOutliers(df):\n",
    "    # Create a new DataFrame to hold the cleaned data\n",
    "    cleaned_df = df.copy()\n",
    "    \n",
    "    # Loop through each numeric column in the DataFrame\n",
    "    for var in df.select_dtypes(include=[np.number]).columns:\n",
    "        # Calculate Q1, Q3, and IQR for the column\n",
    "        Q1 = df[var].quantile(0.25)\n",
    "        Q3 = df[var].quantile(0.75)\n",
    "        IQR = Q3 - Q1\n",
    "        \n",
    "        # Define the upper and lower bounds for outliers\n",
    "        high = Q3 + 1.5 * IQR\n",
    "        low = Q1 - 1.5 * IQR\n",
    "        \n",
    "        # Filter the column and keep only values within the bounds\n",
    "        cleaned_df = cleaned_df[(cleaned_df[var] >= low) & (cleaned_df[var] <= high)]\n",
    "    \n",
    "    return cleaned_df\n"
   ]
  },
  {
   "cell_type": "code",
   "execution_count": null,
   "id": "e6b511a5",
   "metadata": {},
   "outputs": [],
   "source": [
    "df1 = removeOutliers(df)\n",
    "print(df1)"
   ]
  },
  {
   "cell_type": "markdown",
   "id": "9e6b9c9b",
   "metadata": {},
   "source": [
    "### Observations from All Graphs:\n",
    "\n",
    "1. **Single Variable Boxplots:**\n",
    "   - **Age:** A few outliers at older ages, with most ages concentrated in the 20-50 range.\n",
    "   - **Fare:** A large range of fares, with high-value outliers indicating first-class passengers.\n",
    "\n",
    "2. **Two Variable Boxplots (Age vs. Categories):**\n",
    "   - **Sex:** Females tend to have a higher survival rate than males across different ages.\n",
    "   - **Pclass:** First-class passengers (Pclass=1) are more likely to survive compared to second and third-class.\n",
    "   - **Survived:** Survivors are younger, with a notable difference in age between those who survived vs. those who didn’t.\n",
    "\n",
    "3. **Two Variable Boxplots (Fare vs. Categories):**\n",
    "   - **Sex:** Females tend to pay lower fares, but still have higher survival rates.\n",
    "   - **Pclass:** First-class passengers paid much higher fares, which correlates with higher survival rates.\n",
    "   - **Survived:** Higher fares correlate with higher survival rates, particularly in first class.\n",
    "\n",
    "4. **Three Variable Boxplots (Age, Fare vs. Categories and Survival):**\n",
    "   - **Sex vs. Age & Survival:** Women, particularly younger women, had higher survival rates.\n",
    "   - **Pclass vs. Age & Survival:** First-class passengers survived at a higher rate, especially in the younger age groups.\n",
    "   - **Fare vs. Age & Survival:** Higher fare-paying passengers, especially in first-class, had a better chance of survival.\n",
    "\n"
   ]
  }
 ],
 "metadata": {
  "kernelspec": {
   "display_name": "Python 3",
   "language": "python",
   "name": "python3"
  },
  "language_info": {
   "codemirror_mode": {
    "name": "ipython",
    "version": 3
   },
   "file_extension": ".py",
   "mimetype": "text/x-python",
   "name": "python",
   "nbconvert_exporter": "python",
   "pygments_lexer": "ipython3",
   "version": "3.12.0"
  }
 },
 "nbformat": 4,
 "nbformat_minor": 5
}
